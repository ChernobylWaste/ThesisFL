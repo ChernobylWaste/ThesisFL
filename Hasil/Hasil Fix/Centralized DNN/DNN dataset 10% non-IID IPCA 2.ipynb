{
 "cells": [
  {
   "cell_type": "code",
   "execution_count": 1,
   "id": "eca0697b",
   "metadata": {},
   "outputs": [
    {
     "name": "stderr",
     "output_type": "stream",
     "text": [
      "2025-07-07 13:07:35.590532: I tensorflow/tsl/cuda/cudart_stub.cc:28] Could not find cuda drivers on your machine, GPU will not be used.\n",
      "2025-07-07 13:07:35.618908: I tensorflow/tsl/cuda/cudart_stub.cc:28] Could not find cuda drivers on your machine, GPU will not be used.\n",
      "2025-07-07 13:07:35.619873: I tensorflow/core/platform/cpu_feature_guard.cc:182] This TensorFlow binary is optimized to use available CPU instructions in performance-critical operations.\n",
      "To enable the following instructions: AVX2 FMA, in other operations, rebuild TensorFlow with the appropriate compiler flags.\n",
      "2025-07-07 13:07:36.200963: W tensorflow/compiler/tf2tensorrt/utils/py_utils.cc:38] TF-TRT Warning: Could not find TensorRT\n"
     ]
    }
   ],
   "source": [
    "import pandas as pd\n",
    "import numpy as np\n",
    "import matplotlib.pyplot as plt\n",
    "from sklearn.model_selection import train_test_split\n",
    "from sklearn.preprocessing import StandardScaler\n",
    "from sklearn.model_selection import train_test_split\n",
    "from tensorflow.keras.models import Sequential\n",
    "from tensorflow.keras.layers import Dense\n",
    "from tensorflow.keras.utils import to_categorical\n",
    "from sklearn.metrics import classification_report, confusion_matrix\n",
    "import seaborn as sns"
   ]
  },
  {
   "cell_type": "code",
   "execution_count": 2,
   "id": "d99494f4",
   "metadata": {},
   "outputs": [],
   "source": [
    "dataset = pd.read_csv(\"/home/mbc/thesissatria/Dataset/CICIoT2023_noniid2IPCASTD10%.csv\")"
   ]
  },
  {
   "cell_type": "code",
   "execution_count": 3,
   "id": "7c9bba7a",
   "metadata": {},
   "outputs": [
    {
     "name": "stdout",
     "output_type": "stream",
     "text": [
      "<class 'pandas.core.frame.DataFrame'>\n",
      "RangeIndex: 1814248 entries, 0 to 1814247\n",
      "Data columns (total 24 columns):\n",
      " #   Column       Dtype  \n",
      "---  ------       -----  \n",
      " 0   PC1          float64\n",
      " 1   PC2          float64\n",
      " 2   PC3          float64\n",
      " 3   PC4          float64\n",
      " 4   PC5          float64\n",
      " 5   PC6          float64\n",
      " 6   PC7          float64\n",
      " 7   PC8          float64\n",
      " 8   PC9          float64\n",
      " 9   PC10         float64\n",
      " 10  PC11         float64\n",
      " 11  PC12         float64\n",
      " 12  PC13         float64\n",
      " 13  PC14         float64\n",
      " 14  PC15         float64\n",
      " 15  PC16         float64\n",
      " 16  PC17         float64\n",
      " 17  PC18         float64\n",
      " 18  PC19         float64\n",
      " 19  PC20         float64\n",
      " 20  PC21         float64\n",
      " 21  PC22         float64\n",
      " 22  PC23         float64\n",
      " 23  Attack Type  object \n",
      "dtypes: float64(23), object(1)\n",
      "memory usage: 332.2+ MB\n"
     ]
    }
   ],
   "source": [
    "dataset.info()"
   ]
  },
  {
   "cell_type": "code",
   "execution_count": 4,
   "id": "90a2bd9e",
   "metadata": {},
   "outputs": [
    {
     "name": "stdout",
     "output_type": "stream",
     "text": [
      "Ukuran Dataset Sebelum Drop Duplikat dan Missing Value:\n"
     ]
    },
    {
     "data": {
      "text/plain": [
       "(1814248, 24)"
      ]
     },
     "execution_count": 4,
     "metadata": {},
     "output_type": "execute_result"
    }
   ],
   "source": [
    "print(\"Ukuran Dataset Sebelum Drop Duplikat dan Missing Value:\")\n",
    "dataset.shape"
   ]
  },
  {
   "cell_type": "code",
   "execution_count": 5,
   "id": "98b71b37",
   "metadata": {},
   "outputs": [
    {
     "name": "stdout",
     "output_type": "stream",
     "text": [
      "Jumlah Duplikat: 0\n"
     ]
    }
   ],
   "source": [
    "dups = dataset[dataset.duplicated()]\n",
    "print(f'Jumlah Duplikat: {len(dups)}')"
   ]
  },
  {
   "cell_type": "code",
   "execution_count": 6,
   "id": "49872a93",
   "metadata": {},
   "outputs": [
    {
     "name": "stdout",
     "output_type": "stream",
     "text": [
      "Series([], dtype: int64)\n",
      "Series([], dtype: int64)\n",
      "Nilai Hilang 0\n"
     ]
    }
   ],
   "source": [
    "missing_val = dataset.isna().sum()\n",
    "print(missing_val.loc[missing_val > 0])\n",
    "\n",
    "numeric_cols = dataset.select_dtypes(include = np.number).columns\n",
    "inf_count = np.isinf(dataset[numeric_cols]).sum()\n",
    "print(inf_count[inf_count > 0])\n",
    "\n",
    "print(f'Nilai Hilang {dataset.isna().sum().sum()}')"
   ]
  },
  {
   "cell_type": "code",
   "execution_count": 7,
   "id": "7944b61c",
   "metadata": {},
   "outputs": [
    {
     "name": "stdout",
     "output_type": "stream",
     "text": [
      "Ukuran Dataset Sesudah Drop Duplikat:\n"
     ]
    },
    {
     "data": {
      "text/plain": [
       "(1814248, 24)"
      ]
     },
     "execution_count": 7,
     "metadata": {},
     "output_type": "execute_result"
    }
   ],
   "source": [
    "print(\"Ukuran Dataset Sesudah Drop Duplikat:\")\n",
    "dataset.drop_duplicates(inplace = True)\n",
    "dataset.shape"
   ]
  },
  {
   "cell_type": "code",
   "execution_count": 8,
   "id": "ec40b9fb",
   "metadata": {},
   "outputs": [
    {
     "data": {
      "text/html": [
       "<div>\n",
       "<style scoped>\n",
       "    .dataframe tbody tr th:only-of-type {\n",
       "        vertical-align: middle;\n",
       "    }\n",
       "\n",
       "    .dataframe tbody tr th {\n",
       "        vertical-align: top;\n",
       "    }\n",
       "\n",
       "    .dataframe thead th {\n",
       "        text-align: right;\n",
       "    }\n",
       "</style>\n",
       "<table border=\"1\" class=\"dataframe\">\n",
       "  <thead>\n",
       "    <tr style=\"text-align: right;\">\n",
       "      <th></th>\n",
       "      <th>count</th>\n",
       "      <th>mean</th>\n",
       "      <th>std</th>\n",
       "      <th>min</th>\n",
       "      <th>25%</th>\n",
       "      <th>50%</th>\n",
       "      <th>75%</th>\n",
       "      <th>max</th>\n",
       "    </tr>\n",
       "  </thead>\n",
       "  <tbody>\n",
       "    <tr>\n",
       "      <th>PC1</th>\n",
       "      <td>1814248.0</td>\n",
       "      <td>-3.459016e-17</td>\n",
       "      <td>2.920699</td>\n",
       "      <td>-2.912548</td>\n",
       "      <td>-1.229711</td>\n",
       "      <td>-1.111716</td>\n",
       "      <td>-0.491594</td>\n",
       "      <td>118.225965</td>\n",
       "    </tr>\n",
       "    <tr>\n",
       "      <th>PC2</th>\n",
       "      <td>1814248.0</td>\n",
       "      <td>-3.448677e-16</td>\n",
       "      <td>1.943072</td>\n",
       "      <td>-9.990161</td>\n",
       "      <td>-1.531255</td>\n",
       "      <td>0.066213</td>\n",
       "      <td>0.661770</td>\n",
       "      <td>75.172171</td>\n",
       "    </tr>\n",
       "    <tr>\n",
       "      <th>PC3</th>\n",
       "      <td>1814248.0</td>\n",
       "      <td>-2.411599e-16</td>\n",
       "      <td>1.789804</td>\n",
       "      <td>-8.142843</td>\n",
       "      <td>-1.566781</td>\n",
       "      <td>-0.096966</td>\n",
       "      <td>0.778711</td>\n",
       "      <td>62.851235</td>\n",
       "    </tr>\n",
       "    <tr>\n",
       "      <th>PC4</th>\n",
       "      <td>1814248.0</td>\n",
       "      <td>-5.262154e-17</td>\n",
       "      <td>1.766379</td>\n",
       "      <td>-16.706264</td>\n",
       "      <td>-0.355769</td>\n",
       "      <td>0.299140</td>\n",
       "      <td>0.557200</td>\n",
       "      <td>21.060821</td>\n",
       "    </tr>\n",
       "    <tr>\n",
       "      <th>PC5</th>\n",
       "      <td>1814248.0</td>\n",
       "      <td>2.627630e-16</td>\n",
       "      <td>1.634560</td>\n",
       "      <td>-120.312023</td>\n",
       "      <td>-0.000463</td>\n",
       "      <td>0.026351</td>\n",
       "      <td>0.050205</td>\n",
       "      <td>0.843497</td>\n",
       "    </tr>\n",
       "    <tr>\n",
       "      <th>PC6</th>\n",
       "      <td>1814248.0</td>\n",
       "      <td>1.291805e-16</td>\n",
       "      <td>1.451154</td>\n",
       "      <td>-51.318461</td>\n",
       "      <td>-0.645184</td>\n",
       "      <td>-0.053754</td>\n",
       "      <td>1.314912</td>\n",
       "      <td>43.942317</td>\n",
       "    </tr>\n",
       "    <tr>\n",
       "      <th>PC7</th>\n",
       "      <td>1814248.0</td>\n",
       "      <td>4.545442e-17</td>\n",
       "      <td>1.404976</td>\n",
       "      <td>-7.414110</td>\n",
       "      <td>-0.331254</td>\n",
       "      <td>-0.146442</td>\n",
       "      <td>0.449979</td>\n",
       "      <td>135.124853</td>\n",
       "    </tr>\n",
       "    <tr>\n",
       "      <th>PC8</th>\n",
       "      <td>1814248.0</td>\n",
       "      <td>2.588388e-17</td>\n",
       "      <td>1.355163</td>\n",
       "      <td>-1.745482</td>\n",
       "      <td>-0.027251</td>\n",
       "      <td>-0.005870</td>\n",
       "      <td>0.025595</td>\n",
       "      <td>660.470795</td>\n",
       "    </tr>\n",
       "    <tr>\n",
       "      <th>PC9</th>\n",
       "      <td>1814248.0</td>\n",
       "      <td>2.204496e-16</td>\n",
       "      <td>1.308588</td>\n",
       "      <td>-19.681692</td>\n",
       "      <td>-0.743414</td>\n",
       "      <td>-0.112163</td>\n",
       "      <td>0.334692</td>\n",
       "      <td>82.145228</td>\n",
       "    </tr>\n",
       "    <tr>\n",
       "      <th>PC10</th>\n",
       "      <td>1814248.0</td>\n",
       "      <td>-2.573662e-16</td>\n",
       "      <td>1.257209</td>\n",
       "      <td>-40.011529</td>\n",
       "      <td>-0.432585</td>\n",
       "      <td>-0.182846</td>\n",
       "      <td>0.061632</td>\n",
       "      <td>12.533758</td>\n",
       "    </tr>\n",
       "    <tr>\n",
       "      <th>PC11</th>\n",
       "      <td>1814248.0</td>\n",
       "      <td>3.777346e-16</td>\n",
       "      <td>1.110766</td>\n",
       "      <td>-68.429621</td>\n",
       "      <td>-0.980890</td>\n",
       "      <td>0.096180</td>\n",
       "      <td>0.239504</td>\n",
       "      <td>16.950028</td>\n",
       "    </tr>\n",
       "    <tr>\n",
       "      <th>PC12</th>\n",
       "      <td>1814248.0</td>\n",
       "      <td>7.895581e-18</td>\n",
       "      <td>1.031251</td>\n",
       "      <td>-76.208658</td>\n",
       "      <td>-0.396262</td>\n",
       "      <td>0.020180</td>\n",
       "      <td>0.276423</td>\n",
       "      <td>71.207783</td>\n",
       "    </tr>\n",
       "    <tr>\n",
       "      <th>PC13</th>\n",
       "      <td>1814248.0</td>\n",
       "      <td>-1.987368e-16</td>\n",
       "      <td>1.000924</td>\n",
       "      <td>-121.248405</td>\n",
       "      <td>-0.144869</td>\n",
       "      <td>-0.094751</td>\n",
       "      <td>-0.003221</td>\n",
       "      <td>57.591865</td>\n",
       "    </tr>\n",
       "    <tr>\n",
       "      <th>PC14</th>\n",
       "      <td>1814248.0</td>\n",
       "      <td>1.176162e-18</td>\n",
       "      <td>1.000006</td>\n",
       "      <td>-239.108922</td>\n",
       "      <td>-0.001751</td>\n",
       "      <td>0.001406</td>\n",
       "      <td>0.004514</td>\n",
       "      <td>1290.279717</td>\n",
       "    </tr>\n",
       "    <tr>\n",
       "      <th>PC15</th>\n",
       "      <td>1814248.0</td>\n",
       "      <td>9.498391e-18</td>\n",
       "      <td>0.999998</td>\n",
       "      <td>-807.480689</td>\n",
       "      <td>-0.007654</td>\n",
       "      <td>-0.001406</td>\n",
       "      <td>0.001152</td>\n",
       "      <td>731.950612</td>\n",
       "    </tr>\n",
       "    <tr>\n",
       "      <th>PC16</th>\n",
       "      <td>1814248.0</td>\n",
       "      <td>9.497412e-19</td>\n",
       "      <td>0.999987</td>\n",
       "      <td>-1.485179</td>\n",
       "      <td>-0.020388</td>\n",
       "      <td>-0.014170</td>\n",
       "      <td>-0.003564</td>\n",
       "      <td>1058.560511</td>\n",
       "    </tr>\n",
       "    <tr>\n",
       "      <th>PC17</th>\n",
       "      <td>1814248.0</td>\n",
       "      <td>1.405049e-16</td>\n",
       "      <td>0.999672</td>\n",
       "      <td>-98.669217</td>\n",
       "      <td>-0.043503</td>\n",
       "      <td>-0.029717</td>\n",
       "      <td>0.070888</td>\n",
       "      <td>142.184875</td>\n",
       "    </tr>\n",
       "    <tr>\n",
       "      <th>PC18</th>\n",
       "      <td>1814248.0</td>\n",
       "      <td>8.779134e-17</td>\n",
       "      <td>0.958787</td>\n",
       "      <td>-67.603065</td>\n",
       "      <td>-0.455368</td>\n",
       "      <td>-0.155387</td>\n",
       "      <td>0.091715</td>\n",
       "      <td>142.866690</td>\n",
       "    </tr>\n",
       "    <tr>\n",
       "      <th>PC19</th>\n",
       "      <td>1814248.0</td>\n",
       "      <td>4.806278e-17</td>\n",
       "      <td>0.970463</td>\n",
       "      <td>-4.257227</td>\n",
       "      <td>-0.084302</td>\n",
       "      <td>-0.002794</td>\n",
       "      <td>0.140183</td>\n",
       "      <td>733.586919</td>\n",
       "    </tr>\n",
       "    <tr>\n",
       "      <th>PC20</th>\n",
       "      <td>1814248.0</td>\n",
       "      <td>-1.393789e-16</td>\n",
       "      <td>0.759410</td>\n",
       "      <td>-90.924703</td>\n",
       "      <td>-0.330521</td>\n",
       "      <td>-0.078619</td>\n",
       "      <td>0.283651</td>\n",
       "      <td>162.603443</td>\n",
       "    </tr>\n",
       "    <tr>\n",
       "      <th>PC21</th>\n",
       "      <td>1814248.0</td>\n",
       "      <td>-8.781875e-17</td>\n",
       "      <td>0.727096</td>\n",
       "      <td>-15.978476</td>\n",
       "      <td>-0.255851</td>\n",
       "      <td>0.011979</td>\n",
       "      <td>0.231771</td>\n",
       "      <td>113.921192</td>\n",
       "    </tr>\n",
       "    <tr>\n",
       "      <th>PC22</th>\n",
       "      <td>1814248.0</td>\n",
       "      <td>9.217777e-17</td>\n",
       "      <td>0.712789</td>\n",
       "      <td>-53.850386</td>\n",
       "      <td>-0.149579</td>\n",
       "      <td>-0.058047</td>\n",
       "      <td>0.156691</td>\n",
       "      <td>63.355410</td>\n",
       "    </tr>\n",
       "    <tr>\n",
       "      <th>PC23</th>\n",
       "      <td>1814248.0</td>\n",
       "      <td>1.519743e-16</td>\n",
       "      <td>0.670165</td>\n",
       "      <td>-4.836822</td>\n",
       "      <td>-0.182238</td>\n",
       "      <td>-0.082873</td>\n",
       "      <td>0.139746</td>\n",
       "      <td>169.909151</td>\n",
       "    </tr>\n",
       "  </tbody>\n",
       "</table>\n",
       "</div>"
      ],
      "text/plain": [
       "          count          mean       std         min       25%       50%  \\\n",
       "PC1   1814248.0 -3.459016e-17  2.920699   -2.912548 -1.229711 -1.111716   \n",
       "PC2   1814248.0 -3.448677e-16  1.943072   -9.990161 -1.531255  0.066213   \n",
       "PC3   1814248.0 -2.411599e-16  1.789804   -8.142843 -1.566781 -0.096966   \n",
       "PC4   1814248.0 -5.262154e-17  1.766379  -16.706264 -0.355769  0.299140   \n",
       "PC5   1814248.0  2.627630e-16  1.634560 -120.312023 -0.000463  0.026351   \n",
       "PC6   1814248.0  1.291805e-16  1.451154  -51.318461 -0.645184 -0.053754   \n",
       "PC7   1814248.0  4.545442e-17  1.404976   -7.414110 -0.331254 -0.146442   \n",
       "PC8   1814248.0  2.588388e-17  1.355163   -1.745482 -0.027251 -0.005870   \n",
       "PC9   1814248.0  2.204496e-16  1.308588  -19.681692 -0.743414 -0.112163   \n",
       "PC10  1814248.0 -2.573662e-16  1.257209  -40.011529 -0.432585 -0.182846   \n",
       "PC11  1814248.0  3.777346e-16  1.110766  -68.429621 -0.980890  0.096180   \n",
       "PC12  1814248.0  7.895581e-18  1.031251  -76.208658 -0.396262  0.020180   \n",
       "PC13  1814248.0 -1.987368e-16  1.000924 -121.248405 -0.144869 -0.094751   \n",
       "PC14  1814248.0  1.176162e-18  1.000006 -239.108922 -0.001751  0.001406   \n",
       "PC15  1814248.0  9.498391e-18  0.999998 -807.480689 -0.007654 -0.001406   \n",
       "PC16  1814248.0  9.497412e-19  0.999987   -1.485179 -0.020388 -0.014170   \n",
       "PC17  1814248.0  1.405049e-16  0.999672  -98.669217 -0.043503 -0.029717   \n",
       "PC18  1814248.0  8.779134e-17  0.958787  -67.603065 -0.455368 -0.155387   \n",
       "PC19  1814248.0  4.806278e-17  0.970463   -4.257227 -0.084302 -0.002794   \n",
       "PC20  1814248.0 -1.393789e-16  0.759410  -90.924703 -0.330521 -0.078619   \n",
       "PC21  1814248.0 -8.781875e-17  0.727096  -15.978476 -0.255851  0.011979   \n",
       "PC22  1814248.0  9.217777e-17  0.712789  -53.850386 -0.149579 -0.058047   \n",
       "PC23  1814248.0  1.519743e-16  0.670165   -4.836822 -0.182238 -0.082873   \n",
       "\n",
       "           75%          max  \n",
       "PC1  -0.491594   118.225965  \n",
       "PC2   0.661770    75.172171  \n",
       "PC3   0.778711    62.851235  \n",
       "PC4   0.557200    21.060821  \n",
       "PC5   0.050205     0.843497  \n",
       "PC6   1.314912    43.942317  \n",
       "PC7   0.449979   135.124853  \n",
       "PC8   0.025595   660.470795  \n",
       "PC9   0.334692    82.145228  \n",
       "PC10  0.061632    12.533758  \n",
       "PC11  0.239504    16.950028  \n",
       "PC12  0.276423    71.207783  \n",
       "PC13 -0.003221    57.591865  \n",
       "PC14  0.004514  1290.279717  \n",
       "PC15  0.001152   731.950612  \n",
       "PC16 -0.003564  1058.560511  \n",
       "PC17  0.070888   142.184875  \n",
       "PC18  0.091715   142.866690  \n",
       "PC19  0.140183   733.586919  \n",
       "PC20  0.283651   162.603443  \n",
       "PC21  0.231771   113.921192  \n",
       "PC22  0.156691    63.355410  \n",
       "PC23  0.139746   169.909151  "
      ]
     },
     "execution_count": 8,
     "metadata": {},
     "output_type": "execute_result"
    }
   ],
   "source": [
    "dataset.describe().transpose()"
   ]
  },
  {
   "cell_type": "code",
   "execution_count": 9,
   "id": "591c8983",
   "metadata": {},
   "outputs": [
    {
     "name": "stdout",
     "output_type": "stream",
     "text": [
      "Jumlah Serangan Pada Dataset:\n"
     ]
    },
    {
     "data": {
      "text/plain": [
       "Attack Type\n",
       "DDoS              1072620\n",
       "DoS                415004\n",
       "Mirai              151704\n",
       "BENIGN              95625\n",
       "Network Attack      46990\n",
       "Recon               29752\n",
       "Brute Force          1198\n",
       "Injection            1047\n",
       "Malware               308\n",
       "Name: count, dtype: int64"
      ]
     },
     "execution_count": 9,
     "metadata": {},
     "output_type": "execute_result"
    }
   ],
   "source": [
    "print(\"Jumlah Serangan Pada Dataset:\")\n",
    "dataset['Attack Type'].value_counts()"
   ]
  },
  {
   "cell_type": "code",
   "execution_count": 10,
   "id": "94836328",
   "metadata": {},
   "outputs": [],
   "source": [
    "label_map = {\n",
    "        'BENIGN': 0, 'DDoS': 1, 'DoS': 2, 'Mirai': 3,\n",
    "        'Network Attack': 4, 'Recon': 5, 'Brute Force': 6,\n",
    "        'Injection': 7, 'Malware': 8,\n",
    "    }\n",
    "dataset[\"Attack Type\"] = dataset[\"Attack Type\"].map(label_map)"
   ]
  },
  {
   "cell_type": "code",
   "execution_count": 11,
   "id": "39db66e2",
   "metadata": {},
   "outputs": [],
   "source": [
    "features = dataset.drop('Attack Type',axis=1)\n",
    "labels = dataset[\"Attack Type\"]"
   ]
  },
  {
   "cell_type": "code",
   "execution_count": 12,
   "id": "d8196f18",
   "metadata": {},
   "outputs": [],
   "source": [
    "x_train, x_test, y_train, y_test = train_test_split(features, labels, test_size=0.2, random_state=42)"
   ]
  },
  {
   "cell_type": "code",
   "execution_count": 13,
   "id": "403d3fb9",
   "metadata": {},
   "outputs": [
    {
     "name": "stdout",
     "output_type": "stream",
     "text": [
      "X_train: (1451398, 23)\n",
      "y_train: (1451398,)\n",
      "X_test: (362850, 23)\n",
      "y_test: (362850,)\n"
     ]
    }
   ],
   "source": [
    "print(\"X_train:\",x_train.shape)\n",
    "print(\"y_train:\",y_train.shape)\n",
    "\n",
    "print(\"X_test:\",x_test.shape)\n",
    "print(\"y_test:\",y_test.shape)"
   ]
  },
  {
   "cell_type": "code",
   "execution_count": 14,
   "id": "fcedd990",
   "metadata": {},
   "outputs": [],
   "source": [
    "# Mengubah label menjadi format kategori\n",
    "y_train_cat = to_categorical(y_train, num_classes=9)\n",
    "y_test_cat = to_categorical(y_test, num_classes=9)"
   ]
  },
  {
   "cell_type": "code",
   "execution_count": 15,
   "id": "6114fa7b",
   "metadata": {},
   "outputs": [
    {
     "name": "stderr",
     "output_type": "stream",
     "text": [
      "2025-07-07 13:07:58.643109: I tensorflow/compiler/xla/stream_executor/cuda/cuda_gpu_executor.cc:981] could not open file to read NUMA node: /sys/bus/pci/devices/0000:01:00.0/numa_node\n",
      "Your kernel may have been built without NUMA support.\n",
      "2025-07-07 13:07:58.643490: W tensorflow/core/common_runtime/gpu/gpu_device.cc:1960] Cannot dlopen some GPU libraries. Please make sure the missing libraries mentioned above are installed properly if you would like to use GPU. Follow the guide at https://www.tensorflow.org/install/gpu for how to download and setup the required libraries for your platform.\n",
      "Skipping registering GPU devices...\n"
     ]
    },
    {
     "name": "stdout",
     "output_type": "stream",
     "text": [
      "Epoch 1/5\n",
      "22679/22679 [==============================] - 28s 1ms/step - loss: 0.3848 - accuracy: 0.8115 - val_loss: 0.3557 - val_accuracy: 0.8465\n",
      "Epoch 2/5\n",
      "22679/22679 [==============================] - 27s 1ms/step - loss: 0.3350 - accuracy: 0.8478 - val_loss: 0.3229 - val_accuracy: 0.8542\n",
      "Epoch 3/5\n",
      "22679/22679 [==============================] - 27s 1ms/step - loss: 0.3176 - accuracy: 0.8577 - val_loss: 0.3259 - val_accuracy: 0.8509\n",
      "Epoch 4/5\n",
      "22679/22679 [==============================] - 27s 1ms/step - loss: 0.2957 - accuracy: 0.8688 - val_loss: 0.2927 - val_accuracy: 0.8693\n",
      "Epoch 5/5\n",
      "22679/22679 [==============================] - 27s 1ms/step - loss: 0.2544 - accuracy: 0.8916 - val_loss: 0.2878 - val_accuracy: 0.8717\n",
      "11340/11340 [==============================] - 9s 785us/step - loss: 0.2878 - accuracy: 0.8717\n",
      "Test Loss: 0.28776121139526367\n",
      "Test Accuracy: 0.8716908097267151\n",
      "11340/11340 [==============================] - 8s 685us/step\n",
      "Confusion Matrix:\n",
      "[[ 18036      2      0      0    770    340      0      0      0]\n",
      " [     8 180904  34027      5     40      3      0      0      0]\n",
      " [     5   4402  78095     15     26      1      0      0      0]\n",
      " [    20    130     43  30264     19      1      0      0      0]\n",
      " [  3022    124     17      4   5724    455      0      0      0]\n",
      " [  1993      0      2      0    604   3231      0      0      0]\n",
      " [   131      0      0      0     37     53     31      0      0]\n",
      " [    66      6      0      0     70     62      0      8      0]\n",
      " [    15      0      0      0     33      6      0      0      0]]\n",
      "\n",
      "Classification Report:\n"
     ]
    },
    {
     "name": "stderr",
     "output_type": "stream",
     "text": [
      "/home/mbc/thesissatria/fllib/lib/python3.8/site-packages/sklearn/metrics/_classification.py:1471: UndefinedMetricWarning: Precision and F-score are ill-defined and being set to 0.0 in labels with no predicted samples. Use `zero_division` parameter to control this behavior.\n",
      "  _warn_prf(average, modifier, msg_start, len(result))\n",
      "/home/mbc/thesissatria/fllib/lib/python3.8/site-packages/sklearn/metrics/_classification.py:1471: UndefinedMetricWarning: Precision and F-score are ill-defined and being set to 0.0 in labels with no predicted samples. Use `zero_division` parameter to control this behavior.\n",
      "  _warn_prf(average, modifier, msg_start, len(result))\n"
     ]
    },
    {
     "name": "stdout",
     "output_type": "stream",
     "text": [
      "              precision    recall  f1-score   support\n",
      "\n",
      "           0       0.77      0.94      0.85     19148\n",
      "           1       0.97      0.84      0.90    214987\n",
      "           2       0.70      0.95      0.80     82544\n",
      "           3       1.00      0.99      1.00     30477\n",
      "           4       0.78      0.61      0.69      9346\n",
      "           5       0.78      0.55      0.65      5830\n",
      "           6       1.00      0.12      0.22       252\n",
      "           7       1.00      0.04      0.07       212\n",
      "           8       0.00      0.00      0.00        54\n",
      "\n",
      "    accuracy                           0.87    362850\n",
      "   macro avg       0.78      0.56      0.58    362850\n",
      "weighted avg       0.89      0.87      0.87    362850\n",
      "\n"
     ]
    },
    {
     "name": "stderr",
     "output_type": "stream",
     "text": [
      "/home/mbc/thesissatria/fllib/lib/python3.8/site-packages/sklearn/metrics/_classification.py:1471: UndefinedMetricWarning: Precision and F-score are ill-defined and being set to 0.0 in labels with no predicted samples. Use `zero_division` parameter to control this behavior.\n",
      "  _warn_prf(average, modifier, msg_start, len(result))\n"
     ]
    }
   ],
   "source": [
    "# Membuat model Deep Neural Network\n",
    "model = Sequential()\n",
    "\n",
    "# Menambahkan layer input dan hidden layers\n",
    "model.add(Dense(units=128, activation='relu', input_dim=x_train.shape[1]))\n",
    "model.add(Dense(units=64, activation='relu'))\n",
    "model.add(Dense(units=32, activation='relu'))\n",
    "# Menambahkan layer output\n",
    "model.add(Dense(units=9, activation='softmax'))  # 9 kelas\n",
    "\n",
    "# Menyusun model\n",
    "model.compile(optimizer='adam', loss='categorical_crossentropy', metrics=['accuracy'])\n",
    "\n",
    "# Melatih model\n",
    "history = model.fit(x_train, y_train_cat, epochs=5, batch_size=64, validation_data=(x_test, y_test_cat))\n",
    "\n",
    "# Evaluasi model\n",
    "loss, accuracy = model.evaluate(x_test, y_test_cat)\n",
    "print(f\"Test Loss: {loss}\")\n",
    "print(f\"Test Accuracy: {accuracy}\")\n",
    "\n",
    "# Prediksi menggunakan model\n",
    "y_pred = model.predict(x_test)\n",
    "y_pred_classes = np.argmax(y_pred, axis=1)\n",
    "\n",
    "# Menampilkan confusion matrix dan classification report\n",
    "print(\"Confusion Matrix:\")\n",
    "print(confusion_matrix(y_test, y_pred_classes))\n",
    "\n",
    "print(\"\\nClassification Report:\")\n",
    "print(classification_report(y_test, y_pred_classes))\n"
   ]
  },
  {
   "cell_type": "code",
   "execution_count": 16,
   "id": "2961c4a1",
   "metadata": {},
   "outputs": [
    {
     "data": {
      "image/png": "[encoded data removed]",
      "text/plain": [
       "<Figure size 800x600 with 2 Axes>"
      ]
     },
     "metadata": {},
     "output_type": "display_data"
    }
   ],
   "source": [
    "# Membuat confusion matrix\n",
    "cm = confusion_matrix(y_test, y_pred_classes)\n",
    "\n",
    "# Membuat plot confusion matrix menggunakan seaborn\n",
    "plt.figure(figsize=(8, 6))\n",
    "sns.heatmap(cm, annot=True, fmt=\"d\", cmap=\"Blues\", xticklabels=label_map.keys(), yticklabels=label_map.keys())\n",
    "plt.title('Confusion Matrix')\n",
    "plt.xlabel('Predicted')\n",
    "plt.ylabel('True')\n",
    "plt.show()\n"
   ]
  },
  {
   "cell_type": "code",
   "execution_count": null,
   "id": "874ede46",
   "metadata": {},
   "outputs": [],
   "source": []
  }
 ],
 "metadata": {
  "kernelspec": {
   "display_name": "fllib",
   "language": "python",
   "name": "python3"
  },
  "language_info": {
   "codemirror_mode": {
    "name": "ipython",
    "version": 3
   },
   "file_extension": ".py",
   "mimetype": "text/x-python",
   "name": "python",
   "nbconvert_exporter": "python",
   "pygments_lexer": "ipython3",
   "version": "3.8.10"
  }
 },
 "nbformat": 4,
 "nbformat_minor": 5
}
