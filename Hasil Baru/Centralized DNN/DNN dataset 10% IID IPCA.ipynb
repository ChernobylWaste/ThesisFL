{
 "cells": [
  {
   "cell_type": "code",
   "execution_count": 2,
   "id": "eca0697b",
   "metadata": {},
   "outputs": [],
   "source": [
    "import pandas as pd\n",
    "import numpy as np\n",
    "import matplotlib.pyplot as plt\n",
    "from sklearn.model_selection import train_test_split\n",
    "from sklearn.preprocessing import StandardScaler\n",
    "from sklearn.model_selection import train_test_split\n",
    "from tensorflow.keras.models import Sequential\n",
    "from tensorflow.keras.layers import Dense\n",
    "from tensorflow.keras.utils import to_categorical\n",
    "from sklearn.metrics import classification_report, confusion_matrix\n",
    "import seaborn as sns"
   ]
  },
  {
   "cell_type": "code",
   "execution_count": 3,
   "id": "d99494f4",
   "metadata": {},
   "outputs": [],
   "source": [
    "dataset = pd.read_csv(\"/home/mbc/thesissatria/Dataset/CICIoT2023_IPCASTD10%.csv\")"
   ]
  },
  {
   "cell_type": "code",
   "execution_count": 4,
   "id": "7c9bba7a",
   "metadata": {},
   "outputs": [
    {
     "name": "stdout",
     "output_type": "stream",
     "text": [
      "<class 'pandas.core.frame.DataFrame'>\n",
      "RangeIndex: 3628497 entries, 0 to 3628496\n",
      "Data columns (total 24 columns):\n",
      " #   Column       Dtype  \n",
      "---  ------       -----  \n",
      " 0   PC1          float64\n",
      " 1   PC2          float64\n",
      " 2   PC3          float64\n",
      " 3   PC4          float64\n",
      " 4   PC5          float64\n",
      " 5   PC6          float64\n",
      " 6   PC7          float64\n",
      " 7   PC8          float64\n",
      " 8   PC9          float64\n",
      " 9   PC10         float64\n",
      " 10  PC11         float64\n",
      " 11  PC12         float64\n",
      " 12  PC13         float64\n",
      " 13  PC14         float64\n",
      " 14  PC15         float64\n",
      " 15  PC16         float64\n",
      " 16  PC17         float64\n",
      " 17  PC18         float64\n",
      " 18  PC19         float64\n",
      " 19  PC20         float64\n",
      " 20  PC21         float64\n",
      " 21  PC22         float64\n",
      " 22  PC23         float64\n",
      " 23  Attack Type  object \n",
      "dtypes: float64(23), object(1)\n",
      "memory usage: 664.4+ MB\n"
     ]
    }
   ],
   "source": [
    "dataset.info()"
   ]
  },
  {
   "cell_type": "code",
   "execution_count": 5,
   "id": "90a2bd9e",
   "metadata": {},
   "outputs": [
    {
     "name": "stdout",
     "output_type": "stream",
     "text": [
      "Ukuran Dataset Sebelum Drop Duplikat dan Missing Value:\n"
     ]
    },
    {
     "data": {
      "text/plain": [
       "(3628497, 24)"
      ]
     },
     "execution_count": 5,
     "metadata": {},
     "output_type": "execute_result"
    }
   ],
   "source": [
    "print(\"Ukuran Dataset Sebelum Drop Duplikat dan Missing Value:\")\n",
    "dataset.shape"
   ]
  },
  {
   "cell_type": "code",
   "execution_count": 6,
   "id": "98b71b37",
   "metadata": {},
   "outputs": [
    {
     "name": "stdout",
     "output_type": "stream",
     "text": [
      "Jumlah Duplikat: 0\n"
     ]
    }
   ],
   "source": [
    "dups = dataset[dataset.duplicated()]\n",
    "print(f'Jumlah Duplikat: {len(dups)}')"
   ]
  },
  {
   "cell_type": "code",
   "execution_count": 7,
   "id": "49872a93",
   "metadata": {},
   "outputs": [
    {
     "name": "stdout",
     "output_type": "stream",
     "text": [
      "Series([], dtype: int64)\n",
      "Series([], dtype: int64)\n",
      "Nilai Hilang 0\n"
     ]
    }
   ],
   "source": [
    "missing_val = dataset.isna().sum()\n",
    "print(missing_val.loc[missing_val > 0])\n",
    "\n",
    "numeric_cols = dataset.select_dtypes(include = np.number).columns\n",
    "inf_count = np.isinf(dataset[numeric_cols]).sum()\n",
    "print(inf_count[inf_count > 0])\n",
    "\n",
    "print(f'Nilai Hilang {dataset.isna().sum().sum()}')"
   ]
  },
  {
   "cell_type": "code",
   "execution_count": 8,
   "id": "7944b61c",
   "metadata": {},
   "outputs": [
    {
     "name": "stdout",
     "output_type": "stream",
     "text": [
      "Ukuran Dataset Sesudah Drop Duplikat:\n"
     ]
    },
    {
     "data": {
      "text/plain": [
       "(3628497, 24)"
      ]
     },
     "execution_count": 8,
     "metadata": {},
     "output_type": "execute_result"
    }
   ],
   "source": [
    "print(\"Ukuran Dataset Sesudah Drop Duplikat:\")\n",
    "dataset.drop_duplicates(inplace = True)\n",
    "dataset.shape"
   ]
  },
  {
   "cell_type": "code",
   "execution_count": 9,
   "id": "ec40b9fb",
   "metadata": {},
   "outputs": [
    {
     "data": {
      "text/html": [
       "<div>\n",
       "<style scoped>\n",
       "    .dataframe tbody tr th:only-of-type {\n",
       "        vertical-align: middle;\n",
       "    }\n",
       "\n",
       "    .dataframe tbody tr th {\n",
       "        vertical-align: top;\n",
       "    }\n",
       "\n",
       "    .dataframe thead th {\n",
       "        text-align: right;\n",
       "    }\n",
       "</style>\n",
       "<table border=\"1\" class=\"dataframe\">\n",
       "  <thead>\n",
       "    <tr style=\"text-align: right;\">\n",
       "      <th></th>\n",
       "      <th>count</th>\n",
       "      <th>mean</th>\n",
       "      <th>std</th>\n",
       "      <th>min</th>\n",
       "      <th>25%</th>\n",
       "      <th>50%</th>\n",
       "      <th>75%</th>\n",
       "      <th>max</th>\n",
       "    </tr>\n",
       "  </thead>\n",
       "  <tbody>\n",
       "    <tr>\n",
       "      <th>PC1</th>\n",
       "      <td>3628497.0</td>\n",
       "      <td>-1.234467e-17</td>\n",
       "      <td>2.900607</td>\n",
       "      <td>-2.607324</td>\n",
       "      <td>-1.095785</td>\n",
       "      <td>-0.932276</td>\n",
       "      <td>-0.652747</td>\n",
       "      <td>149.632461</td>\n",
       "    </tr>\n",
       "    <tr>\n",
       "      <th>PC2</th>\n",
       "      <td>3628497.0</td>\n",
       "      <td>4.107894e-16</td>\n",
       "      <td>1.971187</td>\n",
       "      <td>-7.972324</td>\n",
       "      <td>-1.413041</td>\n",
       "      <td>-0.081109</td>\n",
       "      <td>0.274327</td>\n",
       "      <td>101.055593</td>\n",
       "    </tr>\n",
       "    <tr>\n",
       "      <th>PC3</th>\n",
       "      <td>3628497.0</td>\n",
       "      <td>-1.417758e-16</td>\n",
       "      <td>1.805279</td>\n",
       "      <td>-55.069477</td>\n",
       "      <td>-1.139432</td>\n",
       "      <td>-0.097206</td>\n",
       "      <td>1.613707</td>\n",
       "      <td>22.822641</td>\n",
       "    </tr>\n",
       "    <tr>\n",
       "      <th>PC4</th>\n",
       "      <td>3628497.0</td>\n",
       "      <td>9.336835e-18</td>\n",
       "      <td>1.756273</td>\n",
       "      <td>-21.782844</td>\n",
       "      <td>-0.354302</td>\n",
       "      <td>0.192984</td>\n",
       "      <td>0.564171</td>\n",
       "      <td>20.297875</td>\n",
       "    </tr>\n",
       "    <tr>\n",
       "      <th>PC5</th>\n",
       "      <td>3628497.0</td>\n",
       "      <td>7.720121e-17</td>\n",
       "      <td>1.640130</td>\n",
       "      <td>-156.268986</td>\n",
       "      <td>-0.001140</td>\n",
       "      <td>0.008415</td>\n",
       "      <td>0.047231</td>\n",
       "      <td>0.905673</td>\n",
       "    </tr>\n",
       "    <tr>\n",
       "      <th>PC6</th>\n",
       "      <td>3628497.0</td>\n",
       "      <td>7.127953e-17</td>\n",
       "      <td>1.472905</td>\n",
       "      <td>-36.098743</td>\n",
       "      <td>-0.669017</td>\n",
       "      <td>-0.062364</td>\n",
       "      <td>1.393293</td>\n",
       "      <td>40.761383</td>\n",
       "    </tr>\n",
       "    <tr>\n",
       "      <th>PC7</th>\n",
       "      <td>3628497.0</td>\n",
       "      <td>2.113516e-17</td>\n",
       "      <td>1.406282</td>\n",
       "      <td>-5.378058</td>\n",
       "      <td>-0.301164</td>\n",
       "      <td>-0.147963</td>\n",
       "      <td>0.345288</td>\n",
       "      <td>138.315213</td>\n",
       "    </tr>\n",
       "    <tr>\n",
       "      <th>PC8</th>\n",
       "      <td>3628497.0</td>\n",
       "      <td>1.284794e-17</td>\n",
       "      <td>1.347754</td>\n",
       "      <td>-1.454871</td>\n",
       "      <td>-0.032037</td>\n",
       "      <td>-0.002833</td>\n",
       "      <td>0.024654</td>\n",
       "      <td>864.955057</td>\n",
       "    </tr>\n",
       "    <tr>\n",
       "      <th>PC9</th>\n",
       "      <td>3628497.0</td>\n",
       "      <td>1.526479e-16</td>\n",
       "      <td>1.340813</td>\n",
       "      <td>-82.873795</td>\n",
       "      <td>-0.318178</td>\n",
       "      <td>0.407333</td>\n",
       "      <td>0.622024</td>\n",
       "      <td>27.921680</td>\n",
       "    </tr>\n",
       "    <tr>\n",
       "      <th>PC10</th>\n",
       "      <td>3628497.0</td>\n",
       "      <td>6.148838e-18</td>\n",
       "      <td>1.295772</td>\n",
       "      <td>-17.243475</td>\n",
       "      <td>-0.125923</td>\n",
       "      <td>0.038139</td>\n",
       "      <td>0.322759</td>\n",
       "      <td>61.043155</td>\n",
       "    </tr>\n",
       "    <tr>\n",
       "      <th>PC11</th>\n",
       "      <td>3628497.0</td>\n",
       "      <td>-2.637969e-16</td>\n",
       "      <td>1.113790</td>\n",
       "      <td>-116.289965</td>\n",
       "      <td>-0.849060</td>\n",
       "      <td>0.085629</td>\n",
       "      <td>0.212818</td>\n",
       "      <td>21.118225</td>\n",
       "    </tr>\n",
       "    <tr>\n",
       "      <th>PC12</th>\n",
       "      <td>3628497.0</td>\n",
       "      <td>1.250104e-16</td>\n",
       "      <td>1.021258</td>\n",
       "      <td>-513.598995</td>\n",
       "      <td>-0.214281</td>\n",
       "      <td>-0.037874</td>\n",
       "      <td>0.197904</td>\n",
       "      <td>82.968950</td>\n",
       "    </tr>\n",
       "    <tr>\n",
       "      <th>PC13</th>\n",
       "      <td>3628497.0</td>\n",
       "      <td>2.837082e-17</td>\n",
       "      <td>1.002447</td>\n",
       "      <td>-105.051357</td>\n",
       "      <td>-0.218696</td>\n",
       "      <td>-0.059044</td>\n",
       "      <td>-0.019306</td>\n",
       "      <td>411.755773</td>\n",
       "    </tr>\n",
       "    <tr>\n",
       "      <th>PC14</th>\n",
       "      <td>3628497.0</td>\n",
       "      <td>1.668509e-17</td>\n",
       "      <td>1.000043</td>\n",
       "      <td>-956.846455</td>\n",
       "      <td>-0.018279</td>\n",
       "      <td>-0.010212</td>\n",
       "      <td>0.032737</td>\n",
       "      <td>539.309312</td>\n",
       "    </tr>\n",
       "    <tr>\n",
       "      <th>PC15</th>\n",
       "      <td>3628497.0</td>\n",
       "      <td>4.958970e-17</td>\n",
       "      <td>0.999996</td>\n",
       "      <td>-161.383536</td>\n",
       "      <td>-0.006037</td>\n",
       "      <td>-0.004528</td>\n",
       "      <td>-0.000274</td>\n",
       "      <td>1573.882577</td>\n",
       "    </tr>\n",
       "    <tr>\n",
       "      <th>PC16</th>\n",
       "      <td>3628497.0</td>\n",
       "      <td>3.081469e-17</td>\n",
       "      <td>0.999991</td>\n",
       "      <td>-56.902789</td>\n",
       "      <td>-0.013551</td>\n",
       "      <td>-0.004924</td>\n",
       "      <td>0.010053</td>\n",
       "      <td>1779.111872</td>\n",
       "    </tr>\n",
       "    <tr>\n",
       "      <th>PC17</th>\n",
       "      <td>3628497.0</td>\n",
       "      <td>6.487318e-17</td>\n",
       "      <td>0.999886</td>\n",
       "      <td>-318.585598</td>\n",
       "      <td>-0.047021</td>\n",
       "      <td>-0.028506</td>\n",
       "      <td>0.073541</td>\n",
       "      <td>480.709438</td>\n",
       "    </tr>\n",
       "    <tr>\n",
       "      <th>PC18</th>\n",
       "      <td>3628497.0</td>\n",
       "      <td>1.378593e-17</td>\n",
       "      <td>0.996160</td>\n",
       "      <td>-58.866428</td>\n",
       "      <td>-0.082676</td>\n",
       "      <td>-0.026117</td>\n",
       "      <td>0.012093</td>\n",
       "      <td>822.082938</td>\n",
       "    </tr>\n",
       "    <tr>\n",
       "      <th>PC19</th>\n",
       "      <td>3628497.0</td>\n",
       "      <td>-1.095981e-16</td>\n",
       "      <td>0.939264</td>\n",
       "      <td>-273.647468</td>\n",
       "      <td>-0.433226</td>\n",
       "      <td>-0.134438</td>\n",
       "      <td>0.095918</td>\n",
       "      <td>7.737541</td>\n",
       "    </tr>\n",
       "    <tr>\n",
       "      <th>PC20</th>\n",
       "      <td>3628497.0</td>\n",
       "      <td>-4.361367e-17</td>\n",
       "      <td>0.785087</td>\n",
       "      <td>-28.743088</td>\n",
       "      <td>-0.308014</td>\n",
       "      <td>-0.003131</td>\n",
       "      <td>0.294901</td>\n",
       "      <td>73.347555</td>\n",
       "    </tr>\n",
       "    <tr>\n",
       "      <th>PC21</th>\n",
       "      <td>3628497.0</td>\n",
       "      <td>1.470238e-17</td>\n",
       "      <td>0.736576</td>\n",
       "      <td>-20.930197</td>\n",
       "      <td>-0.242087</td>\n",
       "      <td>0.020463</td>\n",
       "      <td>0.333331</td>\n",
       "      <td>58.248439</td>\n",
       "    </tr>\n",
       "    <tr>\n",
       "      <th>PC22</th>\n",
       "      <td>3628497.0</td>\n",
       "      <td>2.392486e-16</td>\n",
       "      <td>0.712938</td>\n",
       "      <td>-86.515430</td>\n",
       "      <td>-0.176605</td>\n",
       "      <td>0.044780</td>\n",
       "      <td>0.203891</td>\n",
       "      <td>18.810101</td>\n",
       "    </tr>\n",
       "    <tr>\n",
       "      <th>PC23</th>\n",
       "      <td>3628497.0</td>\n",
       "      <td>5.856671e-17</td>\n",
       "      <td>0.678795</td>\n",
       "      <td>-50.066721</td>\n",
       "      <td>-0.353036</td>\n",
       "      <td>-0.206473</td>\n",
       "      <td>0.194637</td>\n",
       "      <td>7.194398</td>\n",
       "    </tr>\n",
       "  </tbody>\n",
       "</table>\n",
       "</div>"
      ],
      "text/plain": [
       "          count          mean       std         min       25%       50%  \\\n",
       "PC1   3628497.0 -1.234467e-17  2.900607   -2.607324 -1.095785 -0.932276   \n",
       "PC2   3628497.0  4.107894e-16  1.971187   -7.972324 -1.413041 -0.081109   \n",
       "PC3   3628497.0 -1.417758e-16  1.805279  -55.069477 -1.139432 -0.097206   \n",
       "PC4   3628497.0  9.336835e-18  1.756273  -21.782844 -0.354302  0.192984   \n",
       "PC5   3628497.0  7.720121e-17  1.640130 -156.268986 -0.001140  0.008415   \n",
       "PC6   3628497.0  7.127953e-17  1.472905  -36.098743 -0.669017 -0.062364   \n",
       "PC7   3628497.0  2.113516e-17  1.406282   -5.378058 -0.301164 -0.147963   \n",
       "PC8   3628497.0  1.284794e-17  1.347754   -1.454871 -0.032037 -0.002833   \n",
       "PC9   3628497.0  1.526479e-16  1.340813  -82.873795 -0.318178  0.407333   \n",
       "PC10  3628497.0  6.148838e-18  1.295772  -17.243475 -0.125923  0.038139   \n",
       "PC11  3628497.0 -2.637969e-16  1.113790 -116.289965 -0.849060  0.085629   \n",
       "PC12  3628497.0  1.250104e-16  1.021258 -513.598995 -0.214281 -0.037874   \n",
       "PC13  3628497.0  2.837082e-17  1.002447 -105.051357 -0.218696 -0.059044   \n",
       "PC14  3628497.0  1.668509e-17  1.000043 -956.846455 -0.018279 -0.010212   \n",
       "PC15  3628497.0  4.958970e-17  0.999996 -161.383536 -0.006037 -0.004528   \n",
       "PC16  3628497.0  3.081469e-17  0.999991  -56.902789 -0.013551 -0.004924   \n",
       "PC17  3628497.0  6.487318e-17  0.999886 -318.585598 -0.047021 -0.028506   \n",
       "PC18  3628497.0  1.378593e-17  0.996160  -58.866428 -0.082676 -0.026117   \n",
       "PC19  3628497.0 -1.095981e-16  0.939264 -273.647468 -0.433226 -0.134438   \n",
       "PC20  3628497.0 -4.361367e-17  0.785087  -28.743088 -0.308014 -0.003131   \n",
       "PC21  3628497.0  1.470238e-17  0.736576  -20.930197 -0.242087  0.020463   \n",
       "PC22  3628497.0  2.392486e-16  0.712938  -86.515430 -0.176605  0.044780   \n",
       "PC23  3628497.0  5.856671e-17  0.678795  -50.066721 -0.353036 -0.206473   \n",
       "\n",
       "           75%          max  \n",
       "PC1  -0.652747   149.632461  \n",
       "PC2   0.274327   101.055593  \n",
       "PC3   1.613707    22.822641  \n",
       "PC4   0.564171    20.297875  \n",
       "PC5   0.047231     0.905673  \n",
       "PC6   1.393293    40.761383  \n",
       "PC7   0.345288   138.315213  \n",
       "PC8   0.024654   864.955057  \n",
       "PC9   0.622024    27.921680  \n",
       "PC10  0.322759    61.043155  \n",
       "PC11  0.212818    21.118225  \n",
       "PC12  0.197904    82.968950  \n",
       "PC13 -0.019306   411.755773  \n",
       "PC14  0.032737   539.309312  \n",
       "PC15 -0.000274  1573.882577  \n",
       "PC16  0.010053  1779.111872  \n",
       "PC17  0.073541   480.709438  \n",
       "PC18  0.012093   822.082938  \n",
       "PC19  0.095918     7.737541  \n",
       "PC20  0.294901    73.347555  \n",
       "PC21  0.333331    58.248439  \n",
       "PC22  0.203891    18.810101  \n",
       "PC23  0.194637     7.194398  "
      ]
     },
     "execution_count": 9,
     "metadata": {},
     "output_type": "execute_result"
    }
   ],
   "source": [
    "dataset.describe().transpose()"
   ]
  },
  {
   "cell_type": "code",
   "execution_count": 10,
   "id": "591c8983",
   "metadata": {},
   "outputs": [
    {
     "name": "stdout",
     "output_type": "stream",
     "text": [
      "Jumlah Serangan Pada Dataset:\n"
     ]
    },
    {
     "data": {
      "text/plain": [
       "Attack Type\n",
       "DDoS              2450879\n",
       "DoS                737933\n",
       "Mirai              242315\n",
       "BENIGN             109198\n",
       "Network Attack      53730\n",
       "Recon               31732\n",
       "Brute Force          1288\n",
       "Injection            1114\n",
       "Malware               308\n",
       "Name: count, dtype: int64"
      ]
     },
     "execution_count": 10,
     "metadata": {},
     "output_type": "execute_result"
    }
   ],
   "source": [
    "print(\"Jumlah Serangan Pada Dataset:\")\n",
    "dataset['Attack Type'].value_counts()"
   ]
  },
  {
   "cell_type": "code",
   "execution_count": 11,
   "id": "94836328",
   "metadata": {},
   "outputs": [],
   "source": [
    "label_map = {\n",
    "        'BENIGN': 0, 'DDoS': 1, 'DoS': 2, 'Mirai': 3,\n",
    "        'Network Attack': 4, 'Recon': 5, 'Brute Force': 6,\n",
    "        'Injection': 7, 'Malware': 8,\n",
    "    }\n",
    "dataset[\"Attack Type\"] = dataset[\"Attack Type\"].map(label_map)"
   ]
  },
  {
   "cell_type": "code",
   "execution_count": 12,
   "id": "39db66e2",
   "metadata": {},
   "outputs": [],
   "source": [
    "features = dataset.drop('Attack Type',axis=1)\n",
    "labels = dataset[\"Attack Type\"]"
   ]
  },
  {
   "cell_type": "code",
   "execution_count": 13,
   "id": "d8196f18",
   "metadata": {},
   "outputs": [],
   "source": [
    "x_train, x_test, y_train, y_test = train_test_split(features, labels, test_size=0.2, random_state=42)"
   ]
  },
  {
   "cell_type": "code",
   "execution_count": 14,
   "id": "403d3fb9",
   "metadata": {},
   "outputs": [
    {
     "name": "stdout",
     "output_type": "stream",
     "text": [
      "X_train: (2902797, 23)\n",
      "y_train: (2902797,)\n",
      "X_test: (725700, 23)\n",
      "y_test: (725700,)\n"
     ]
    }
   ],
   "source": [
    "print(\"X_train:\",x_train.shape)\n",
    "print(\"y_train:\",y_train.shape)\n",
    "\n",
    "print(\"X_test:\",x_test.shape)\n",
    "print(\"y_test:\",y_test.shape)"
   ]
  },
  {
   "cell_type": "code",
   "execution_count": 15,
   "id": "fcedd990",
   "metadata": {},
   "outputs": [],
   "source": [
    "# Mengubah label menjadi format kategori\n",
    "y_train_cat = to_categorical(y_train, num_classes=9)\n",
    "y_test_cat = to_categorical(y_test, num_classes=9)"
   ]
  },
  {
   "cell_type": "code",
   "execution_count": 16,
   "id": "6114fa7b",
   "metadata": {},
   "outputs": [
    {
     "name": "stderr",
     "output_type": "stream",
     "text": [
      "2025-07-07 12:47:58.865295: I tensorflow/compiler/xla/stream_executor/cuda/cuda_gpu_executor.cc:981] could not open file to read NUMA node: /sys/bus/pci/devices/0000:01:00.0/numa_node\n",
      "Your kernel may have been built without NUMA support.\n",
      "2025-07-07 12:47:58.865657: W tensorflow/core/common_runtime/gpu/gpu_device.cc:1960] Cannot dlopen some GPU libraries. Please make sure the missing libraries mentioned above are installed properly if you would like to use GPU. Follow the guide at https://www.tensorflow.org/install/gpu for how to download and setup the required libraries for your platform.\n",
      "Skipping registering GPU devices...\n"
     ]
    },
    {
     "name": "stdout",
     "output_type": "stream",
     "text": [
      "Epoch 1/5\n",
      "45357/45357 [==============================] - 52s 1ms/step - loss: 0.3235 - accuracy: 0.8525 - val_loss: 0.3080 - val_accuracy: 0.8651\n",
      "Epoch 2/5\n",
      "45357/45357 [==============================] - 53s 1ms/step - loss: 0.2503 - accuracy: 0.8922 - val_loss: 0.1881 - val_accuracy: 0.9209\n",
      "Epoch 3/5\n",
      "45357/45357 [==============================] - 53s 1ms/step - loss: 0.1788 - accuracy: 0.9296 - val_loss: 0.1752 - val_accuracy: 0.9328\n",
      "Epoch 4/5\n",
      "45357/45357 [==============================] - 53s 1ms/step - loss: 0.1382 - accuracy: 0.9481 - val_loss: 0.1325 - val_accuracy: 0.9392\n",
      "Epoch 5/5\n",
      "45357/45357 [==============================] - 53s 1ms/step - loss: 0.1448 - accuracy: 0.9464 - val_loss: 0.0903 - val_accuracy: 0.9670\n",
      "22679/22679 [==============================] - 18s 790us/step - loss: 0.0903 - accuracy: 0.9670\n",
      "Test Loss: 0.09034240990877151\n",
      "Test Accuracy: 0.9670235514640808\n",
      "22679/22679 [==============================] - 15s 670us/step\n",
      "Confusion Matrix:\n",
      "[[ 20747     56      0      0    977    280      0      0      0]\n",
      " [     1 486915   2637     13     89     37      0      0      0]\n",
      " [     0  11686 135972     14     52     44      0      0      0]\n",
      " [     0    291     55  48263     19      1      0      0      0]\n",
      " [  3444    265     22      6   6916    126      0      0      0]\n",
      " [  2032     67      0      0   1192   2921      0      0      0]\n",
      " [   130      4      0      0     60     35     35      0      0]\n",
      " [    93      2      0      0    123     14      0      0      0]\n",
      " [    18      0      0      0     44      2      0      0      0]]\n",
      "\n",
      "Classification Report:\n"
     ]
    },
    {
     "name": "stderr",
     "output_type": "stream",
     "text": [
      "/home/mbc/thesissatria/fllib/lib/python3.8/site-packages/sklearn/metrics/_classification.py:1471: UndefinedMetricWarning: Precision and F-score are ill-defined and being set to 0.0 in labels with no predicted samples. Use `zero_division` parameter to control this behavior.\n",
      "  _warn_prf(average, modifier, msg_start, len(result))\n"
     ]
    },
    {
     "name": "stdout",
     "output_type": "stream",
     "text": [
      "              precision    recall  f1-score   support\n",
      "\n",
      "           0       0.78      0.94      0.86     22060\n",
      "           1       0.98      0.99      0.98    489692\n",
      "           2       0.98      0.92      0.95    147768\n",
      "           3       1.00      0.99      1.00     48629\n",
      "           4       0.73      0.64      0.68     10779\n",
      "           5       0.84      0.47      0.60      6212\n",
      "           6       1.00      0.13      0.23       264\n",
      "           7       0.00      0.00      0.00       232\n",
      "           8       0.00      0.00      0.00        64\n",
      "\n",
      "    accuracy                           0.97    725700\n",
      "   macro avg       0.70      0.57      0.59    725700\n",
      "weighted avg       0.97      0.97      0.97    725700\n",
      "\n"
     ]
    },
    {
     "name": "stderr",
     "output_type": "stream",
     "text": [
      "/home/mbc/thesissatria/fllib/lib/python3.8/site-packages/sklearn/metrics/_classification.py:1471: UndefinedMetricWarning: Precision and F-score are ill-defined and being set to 0.0 in labels with no predicted samples. Use `zero_division` parameter to control this behavior.\n",
      "  _warn_prf(average, modifier, msg_start, len(result))\n",
      "/home/mbc/thesissatria/fllib/lib/python3.8/site-packages/sklearn/metrics/_classification.py:1471: UndefinedMetricWarning: Precision and F-score are ill-defined and being set to 0.0 in labels with no predicted samples. Use `zero_division` parameter to control this behavior.\n",
      "  _warn_prf(average, modifier, msg_start, len(result))\n"
     ]
    }
   ],
   "source": [
    "# Membuat model Deep Neural Network\n",
    "model = Sequential()\n",
    "\n",
    "# Menambahkan layer input dan hidden layers\n",
    "model.add(Dense(units=128, activation='relu', input_dim=x_train.shape[1]))\n",
    "model.add(Dense(units=64, activation='relu'))\n",
    "model.add(Dense(units=32, activation='relu'))\n",
    "# Menambahkan layer output\n",
    "model.add(Dense(units=9, activation='softmax'))  # 9 kelas\n",
    "\n",
    "# Menyusun model\n",
    "model.compile(optimizer='adam', loss='categorical_crossentropy', metrics=['accuracy'])\n",
    "\n",
    "# Melatih model\n",
    "history = model.fit(x_train, y_train_cat, epochs=5, batch_size=64, validation_data=(x_test, y_test_cat))\n",
    "\n",
    "# Evaluasi model\n",
    "loss, accuracy = model.evaluate(x_test, y_test_cat)\n",
    "print(f\"Test Loss: {loss}\")\n",
    "print(f\"Test Accuracy: {accuracy}\")\n",
    "\n",
    "# Prediksi menggunakan model\n",
    "y_pred = model.predict(x_test)\n",
    "y_pred_classes = np.argmax(y_pred, axis=1)\n",
    "\n",
    "# Menampilkan confusion matrix dan classification report\n",
    "print(\"Confusion Matrix:\")\n",
    "print(confusion_matrix(y_test, y_pred_classes))\n",
    "\n",
    "print(\"\\nClassification Report:\")\n",
    "print(classification_report(y_test, y_pred_classes))\n"
   ]
  },
  {
   "cell_type": "code",
   "execution_count": 17,
   "id": "2961c4a1",
   "metadata": {},
   "outputs": [
    {
     "data": {
      "image/png": "[encoded data removed]",
      "text/plain": [
       "<Figure size 800x600 with 2 Axes>"
      ]
     },
     "metadata": {},
     "output_type": "display_data"
    }
   ],
   "source": [
    "# Membuat confusion matrix\n",
    "cm = confusion_matrix(y_test, y_pred_classes)\n",
    "\n",
    "# Membuat plot confusion matrix menggunakan seaborn\n",
    "plt.figure(figsize=(8, 6))\n",
    "sns.heatmap(cm, annot=True, fmt=\"d\", cmap=\"Blues\", xticklabels=label_map.keys(), yticklabels=label_map.keys())\n",
    "plt.title('Confusion Matrix')\n",
    "plt.xlabel('Predicted')\n",
    "plt.ylabel('True')\n",
    "plt.show()\n"
   ]
  },
  {
   "cell_type": "code",
   "execution_count": null,
   "id": "874ede46",
   "metadata": {},
   "outputs": [],
   "source": []
  }
 ],
 "metadata": {
  "kernelspec": {
   "display_name": "fllib",
   "language": "python",
   "name": "python3"
  },
  "language_info": {
   "codemirror_mode": {
    "name": "ipython",
    "version": 3
   },
   "file_extension": ".py",
   "mimetype": "text/x-python",
   "name": "python",
   "nbconvert_exporter": "python",
   "pygments_lexer": "ipython3",
   "version": "3.8.10"
  }
 },
 "nbformat": 4,
 "nbformat_minor": 5
}
