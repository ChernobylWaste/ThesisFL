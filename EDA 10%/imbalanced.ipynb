{
 "cells": [
  {
   "cell_type": "code",
   "execution_count": 1,
   "metadata": {},
   "outputs": [],
   "source": [
    "import pandas as pd\n",
    "import numpy as np"
   ]
  },
  {
   "cell_type": "code",
   "execution_count": 2,
   "metadata": {},
   "outputs": [],
   "source": [
    "# Load dataset\n",
    "file_path = \"/home/mbc/thesissatria/Dataset/CICIOT2023 10%.csv\"\n",
    "df = pd.read_csv(file_path)"
   ]
  },
  {
   "cell_type": "code",
   "execution_count": 3,
   "metadata": {},
   "outputs": [
    {
     "data": {
      "text/plain": [
       "Attack Type\n",
       "DDoS              3380228\n",
       "DoS                805164\n",
       "Mirai              262018\n",
       "BENIGN             109198\n",
       "Network Attack      53730\n",
       "Recon               31737\n",
       "Brute Force          1288\n",
       "Injection            1114\n",
       "Malware               308\n",
       "Name: count, dtype: int64"
      ]
     },
     "execution_count": 3,
     "metadata": {},
     "output_type": "execute_result"
    }
   ],
   "source": [
    "df[\"Attack Type\"].value_counts()"
   ]
  },
  {
   "cell_type": "code",
   "execution_count": 4,
   "metadata": {},
   "outputs": [
    {
     "name": "stdout",
     "output_type": "stream",
     "text": [
      "Series([], dtype: int64)\n",
      "Series([], dtype: int64)\n",
      "Nilai Hilang 0\n"
     ]
    }
   ],
   "source": [
    "missing_val = df.isna().sum()\n",
    "print(missing_val.loc[missing_val > 0])\n",
    "\n",
    "numeric_cols = df.select_dtypes(include = np.number).columns\n",
    "inf_count = np.isinf(df[numeric_cols]).sum()\n",
    "print(inf_count[inf_count > 0])\n",
    "\n",
    "print(f'Nilai Hilang {df.isna().sum().sum()}')"
   ]
  },
  {
   "cell_type": "code",
   "execution_count": 5,
   "metadata": {},
   "outputs": [
    {
     "data": {
      "text/plain": [
       "(4644785, 47)"
      ]
     },
     "execution_count": 5,
     "metadata": {},
     "output_type": "execute_result"
    }
   ],
   "source": [
    "df.shape"
   ]
  },
  {
   "cell_type": "code",
   "execution_count": 6,
   "metadata": {},
   "outputs": [],
   "source": [
    "df = df.drop_duplicates()"
   ]
  },
  {
   "cell_type": "code",
   "execution_count": 7,
   "metadata": {},
   "outputs": [
    {
     "data": {
      "text/plain": [
       "(3628497, 47)"
      ]
     },
     "execution_count": 7,
     "metadata": {},
     "output_type": "execute_result"
    }
   ],
   "source": [
    "df.shape"
   ]
  },
  {
   "cell_type": "code",
   "execution_count": 8,
   "metadata": {},
   "outputs": [
    {
     "data": {
      "text/plain": [
       "Attack Type\n",
       "DDoS              2450879\n",
       "DoS                737933\n",
       "Mirai              242315\n",
       "BENIGN             109198\n",
       "Network Attack      53730\n",
       "Recon               31732\n",
       "Brute Force          1288\n",
       "Injection            1114\n",
       "Malware               308\n",
       "Name: count, dtype: int64"
      ]
     },
     "execution_count": 8,
     "metadata": {},
     "output_type": "execute_result"
    }
   ],
   "source": [
    "df[\"Attack Type\"].value_counts()"
   ]
  },
  {
   "cell_type": "code",
   "execution_count": null,
   "metadata": {},
   "outputs": [
    {
     "name": "stdout",
     "output_type": "stream",
     "text": [
      "Attack Type\n",
      "DDoS              245088\n",
      "DoS               221380\n",
      "Mirai              96926\n",
      "BENIGN             87358\n",
      "Network Attack     42984\n",
      "Recon              28559\n",
      "Brute Force         1159\n",
      "Injection           1003\n",
      "Malware              308\n",
      "Name: count, dtype: int64\n",
      "Final shape: (724765, 47)\n"
     ]
    }
   ],
   "source": [
    "# Total target shape\n",
    "target_rows = 1814248\n",
    "\n",
    "# Sampling rate yang dikoreksi untuk menghindari kelebihan data\n",
    "sampling_rates = {\n",
    "    \"DDoS\": 0.1,        \n",
    "    \"DoS\": 0.3,        \n",
    "    \"Mirai\": 0.4,      \n",
    "    \"BENIGN\": 0.8,     \n",
    "    \"Network Attack\": 0.8, \n",
    "    \"Recon\": 0.9,  \n",
    "    \"Brute Force\": 0.9,  \n",
    "    \"Injection\": 0.9,  \n",
    "    \"Malware\": 1  \n",
    "}\n",
    "\n",
    "# Sampling berdasarkan rate yang dikoreksi\n",
    "df_imbalanced = pd.concat([\n",
    "    df[df[\"Attack Type\"] == label].sample(frac=sampling_rates[label], random_state=42)\n",
    "    for label in sampling_rates\n",
    "])\n",
    "\n",
    "# Hapus duplikat\n",
    "df_imbalanced = df_imbalanced.drop_duplicates()\n",
    "\n",
    "# Jika setelah dihapus jumlahnya kurang dari target, tambahkan kembali sampel unik\n",
    "if df_imbalanced.shape[0] < target_rows:\n",
    "    missing_rows = target_rows - df_imbalanced.shape[0]\n",
    "    \n",
    "    # Ambil sampel tambahan dari dataset asli yang belum ada di dataset hasil\n",
    "    df_remaining = df[~df.index.isin(df_imbalanced.index)].sample(n=missing_rows, random_state=42)\n",
    "    \n",
    "    # Gabungkan kembali\n",
    "    df_imbalanced = pd.concat([df_imbalanced, df_remaining])\n",
    "\n",
    "# Simpan dataset hasil sampling tanpa duplikat\n",
    "df_imbalanced.to_csv(\"CICIoT2023_2.csv\", index=False)\n",
    "\n",
    "# Cek distribusi label setelah sampling\n",
    "print(df_imbalanced[\"Attack Type\"].value_counts())\n",
    "\n",
    "# Cek shape final\n",
    "print(\"Final shape:\", df_imbalanced.shape)\n"
   ]
  },
  {
   "cell_type": "code",
   "execution_count": 10,
   "metadata": {},
   "outputs": [
    {
     "name": "stdout",
     "output_type": "stream",
     "text": [
      "Series([], dtype: int64)\n",
      "Series([], dtype: int64)\n",
      "Nilai Hilang 0\n"
     ]
    }
   ],
   "source": [
    "missing_val = df_imbalanced.isna().sum()\n",
    "print(missing_val.loc[missing_val > 0])\n",
    "\n",
    "numeric_cols = df_imbalanced.select_dtypes(include = np.number).columns\n",
    "inf_count = np.isinf(df_imbalanced[numeric_cols]).sum()\n",
    "print(inf_count[inf_count > 0])\n",
    "\n",
    "print(f'Nilai Hilang {df_imbalanced.isna().sum().sum()}')"
   ]
  },
  {
   "cell_type": "code",
   "execution_count": 11,
   "metadata": {},
   "outputs": [
    {
     "name": "stdout",
     "output_type": "stream",
     "text": [
      "Jumlah Duplikat: 0\n"
     ]
    }
   ],
   "source": [
    "dups = df_imbalanced[df_imbalanced.duplicated()]\n",
    "print(f'Jumlah Duplikat: {len(dups)}')"
   ]
  },
  {
   "cell_type": "code",
   "execution_count": 12,
   "metadata": {},
   "outputs": [
    {
     "data": {
      "text/plain": [
       "(724765, 47)"
      ]
     },
     "execution_count": 12,
     "metadata": {},
     "output_type": "execute_result"
    }
   ],
   "source": [
    "df_imbalanced.shape"
   ]
  },
  {
   "cell_type": "code",
   "execution_count": 2,
   "metadata": {},
   "outputs": [
    {
     "name": "stdout",
     "output_type": "stream",
     "text": [
      "Attack Type\n",
      "DDoS              1221567\n",
      "DoS                361461\n",
      "Mirai              118537\n",
      "BENIGN              73194\n",
      "Network Attack      24894\n",
      "Recon               13429\n",
      "Brute Force           546\n",
      "Injection             481\n",
      "Malware               139\n",
      "Name: count, dtype: int64\n",
      "Final shape: (1814248, 47)\n"
     ]
    }
   ],
   "source": [
    "import pandas as pd\n",
    "\n",
    "dataset2= pd.read_csv(\"/home/mbc/thesissatria/Codingan DNN/CICIoT2023 rows 1814248 _39%, 38%, 38%, 60%, 35%, 30%, 3%, 3%, 3%.csv\")\n",
    "print(dataset2[\"Attack Type\"].value_counts())\n",
    "\n",
    "print(\"Final shape:\", dataset2.shape)"
   ]
  },
  {
   "cell_type": "code",
   "execution_count": 3,
   "metadata": {},
   "outputs": [
    {
     "name": "stdout",
     "output_type": "stream",
     "text": [
      "Attack Type\n",
      "DDoS              1072620\n",
      "DoS                415004\n",
      "Mirai              151704\n",
      "BENIGN              95625\n",
      "Network Attack      46990\n",
      "Recon               29752\n",
      "Brute Force          1198\n",
      "Injection            1047\n",
      "Malware               308\n",
      "Name: count, dtype: int64\n",
      "Final shape: (1814248, 47)\n"
     ]
    }
   ],
   "source": [
    "import pandas as pd\n",
    "\n",
    "dataset3= pd.read_csv(\"/home/mbc/thesissatria/Codingan DNN/CICIoT2023 rows 1814248_1%, 3%, 4%, 80%, 80%, 90%, 90%, 90%, 100%.csv\")\n",
    "print(dataset3[\"Attack Type\"].value_counts())\n",
    "\n",
    "print(\"Final shape:\", dataset3.shape)"
   ]
  }
 ],
 "metadata": {
  "kernelspec": {
   "display_name": "fllib",
   "language": "python",
   "name": "python3"
  },
  "language_info": {
   "codemirror_mode": {
    "name": "ipython",
    "version": 3
   },
   "file_extension": ".py",
   "mimetype": "text/x-python",
   "name": "python",
   "nbconvert_exporter": "python",
   "pygments_lexer": "ipython3",
   "version": "3.8.10"
  }
 },
 "nbformat": 4,
 "nbformat_minor": 2
}
