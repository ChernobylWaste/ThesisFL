{
 "cells": [
  {
   "cell_type": "code",
   "execution_count": 1,
   "metadata": {},
   "outputs": [],
   "source": [
    "import pandas as pd\n",
    "import numpy as np\n",
    "import matplotlib.pyplot as plt\n",
    "from sklearn.model_selection import train_test_split\n",
    "from sklearn.preprocessing import StandardScaler\n",
    "from sklearn.model_selection import train_test_split"
   ]
  },
  {
   "cell_type": "code",
   "execution_count": 2,
   "metadata": {},
   "outputs": [],
   "source": [
    "dataset = pd.read_csv(\"/home/mbc/thesissatria/Dataset/CICIOT2023 10%.csv\")"
   ]
  },
  {
   "cell_type": "code",
   "execution_count": 3,
   "metadata": {},
   "outputs": [
    {
     "name": "stdout",
     "output_type": "stream",
     "text": [
      "<class 'pandas.core.frame.DataFrame'>\n",
      "RangeIndex: 4644785 entries, 0 to 4644784\n",
      "Data columns (total 47 columns):\n",
      " #   Column           Dtype  \n",
      "---  ------           -----  \n",
      " 0   flow_duration    float64\n",
      " 1   Header_Length    float64\n",
      " 2   Protocol Type    float64\n",
      " 3   Duration         float64\n",
      " 4   Rate             float64\n",
      " 5   Srate            float64\n",
      " 6   Drate            float64\n",
      " 7   fin_flag_number  float64\n",
      " 8   syn_flag_number  float64\n",
      " 9   rst_flag_number  float64\n",
      " 10  psh_flag_number  float64\n",
      " 11  ack_flag_number  float64\n",
      " 12  ece_flag_number  float64\n",
      " 13  cwr_flag_number  float64\n",
      " 14  ack_count        float64\n",
      " 15  syn_count        float64\n",
      " 16  fin_count        float64\n",
      " 17  urg_count        float64\n",
      " 18  rst_count        float64\n",
      " 19  HTTP             float64\n",
      " 20  HTTPS            float64\n",
      " 21  DNS              float64\n",
      " 22  Telnet           float64\n",
      " 23  SMTP             float64\n",
      " 24  SSH              float64\n",
      " 25  IRC              float64\n",
      " 26  TCP              float64\n",
      " 27  UDP              float64\n",
      " 28  DHCP             float64\n",
      " 29  ARP              float64\n",
      " 30  ICMP             float64\n",
      " 31  IPv              float64\n",
      " 32  LLC              float64\n",
      " 33  Tot sum          float64\n",
      " 34  Min              float64\n",
      " 35  Max              float64\n",
      " 36  AVG              float64\n",
      " 37  Std              float64\n",
      " 38  Tot size         float64\n",
      " 39  IAT              float64\n",
      " 40  Number           float64\n",
      " 41  Magnitue         float64\n",
      " 42  Radius           float64\n",
      " 43  Covariance       float64\n",
      " 44  Variance         float64\n",
      " 45  Weight           float64\n",
      " 46  Attack Type      object \n",
      "dtypes: float64(46), object(1)\n",
      "memory usage: 1.6+ GB\n"
     ]
    }
   ],
   "source": [
    "dataset.info()"
   ]
  },
  {
   "cell_type": "code",
   "execution_count": 4,
   "metadata": {},
   "outputs": [
    {
     "name": "stdout",
     "output_type": "stream",
     "text": [
      "Jumlah Duplikat: 1016288\n"
     ]
    }
   ],
   "source": [
    "dups = dataset[dataset.duplicated()]\n",
    "print(f'Jumlah Duplikat: {len(dups)}')"
   ]
  },
  {
   "cell_type": "code",
   "execution_count": 5,
   "metadata": {},
   "outputs": [
    {
     "name": "stdout",
     "output_type": "stream",
     "text": [
      "Ukuran Dataset Sebelum Drop Duplikat:\n",
      "\n"
     ]
    },
    {
     "data": {
      "text/plain": [
       "(4644785, 47)"
      ]
     },
     "execution_count": 5,
     "metadata": {},
     "output_type": "execute_result"
    }
   ],
   "source": [
    "print(\"Ukuran Dataset Sebelum Drop Duplikat:\\n\")\n",
    "dataset.shape"
   ]
  },
  {
   "cell_type": "code",
   "execution_count": 6,
   "metadata": {},
   "outputs": [
    {
     "name": "stdout",
     "output_type": "stream",
     "text": [
      "Ukuran Dataset Sesudah Drop Duplikat:\n",
      "\n"
     ]
    },
    {
     "data": {
      "text/plain": [
       "(3628497, 47)"
      ]
     },
     "execution_count": 6,
     "metadata": {},
     "output_type": "execute_result"
    }
   ],
   "source": [
    "print(\"Ukuran Dataset Sesudah Drop Duplikat:\\n\")\n",
    "dataset.drop_duplicates(inplace = True)\n",
    "dataset.shape"
   ]
  },
  {
   "cell_type": "code",
   "execution_count": 7,
   "metadata": {},
   "outputs": [
    {
     "name": "stdout",
     "output_type": "stream",
     "text": [
      "Series([], dtype: int64)\n",
      "Series([], dtype: int64)\n",
      "Nilai Hilang 0\n"
     ]
    }
   ],
   "source": [
    "missing_val = dataset.isna().sum()\n",
    "print(missing_val.loc[missing_val > 0])\n",
    "\n",
    "numeric_cols = dataset.select_dtypes(include = np.number).columns\n",
    "inf_count = np.isinf(dataset[numeric_cols]).sum()\n",
    "print(inf_count[inf_count > 0])\n",
    "\n",
    "print(f'Nilai Hilang {dataset.isna().sum().sum()}')"
   ]
  },
  {
   "cell_type": "code",
   "execution_count": 8,
   "metadata": {},
   "outputs": [
    {
     "data": {
      "text/html": [
       "<div>\n",
       "<style scoped>\n",
       "    .dataframe tbody tr th:only-of-type {\n",
       "        vertical-align: middle;\n",
       "    }\n",
       "\n",
       "    .dataframe tbody tr th {\n",
       "        vertical-align: top;\n",
       "    }\n",
       "\n",
       "    .dataframe thead th {\n",
       "        text-align: right;\n",
       "    }\n",
       "</style>\n",
       "<table border=\"1\" class=\"dataframe\">\n",
       "  <thead>\n",
       "    <tr style=\"text-align: right;\">\n",
       "      <th></th>\n",
       "      <th>flow_duration</th>\n",
       "      <th>Header_Length</th>\n",
       "      <th>Protocol Type</th>\n",
       "      <th>Duration</th>\n",
       "      <th>Rate</th>\n",
       "      <th>Srate</th>\n",
       "      <th>Drate</th>\n",
       "      <th>fin_flag_number</th>\n",
       "      <th>syn_flag_number</th>\n",
       "      <th>rst_flag_number</th>\n",
       "      <th>...</th>\n",
       "      <th>AVG</th>\n",
       "      <th>Std</th>\n",
       "      <th>Tot size</th>\n",
       "      <th>IAT</th>\n",
       "      <th>Number</th>\n",
       "      <th>Magnitue</th>\n",
       "      <th>Radius</th>\n",
       "      <th>Covariance</th>\n",
       "      <th>Variance</th>\n",
       "      <th>Weight</th>\n",
       "    </tr>\n",
       "  </thead>\n",
       "  <tbody>\n",
       "    <tr>\n",
       "      <th>count</th>\n",
       "      <td>3.628497e+06</td>\n",
       "      <td>3.628497e+06</td>\n",
       "      <td>3.628497e+06</td>\n",
       "      <td>3.628497e+06</td>\n",
       "      <td>3.628497e+06</td>\n",
       "      <td>3.628497e+06</td>\n",
       "      <td>3.628497e+06</td>\n",
       "      <td>3.628497e+06</td>\n",
       "      <td>3.628497e+06</td>\n",
       "      <td>3.628497e+06</td>\n",
       "      <td>...</td>\n",
       "      <td>3.628497e+06</td>\n",
       "      <td>3.628497e+06</td>\n",
       "      <td>3.628497e+06</td>\n",
       "      <td>3.628497e+06</td>\n",
       "      <td>3.628497e+06</td>\n",
       "      <td>3.628497e+06</td>\n",
       "      <td>3.628497e+06</td>\n",
       "      <td>3.628497e+06</td>\n",
       "      <td>3.628497e+06</td>\n",
       "      <td>3.628497e+06</td>\n",
       "    </tr>\n",
       "    <tr>\n",
       "      <th>mean</th>\n",
       "      <td>7.262128e+00</td>\n",
       "      <td>9.806340e+04</td>\n",
       "      <td>1.013753e+01</td>\n",
       "      <td>6.701270e+01</td>\n",
       "      <td>8.175986e+03</td>\n",
       "      <td>8.175986e+03</td>\n",
       "      <td>7.574012e-06</td>\n",
       "      <td>6.010092e-02</td>\n",
       "      <td>2.288151e-01</td>\n",
       "      <td>6.517850e-02</td>\n",
       "      <td>...</td>\n",
       "      <td>1.423634e+02</td>\n",
       "      <td>4.265004e+01</td>\n",
       "      <td>1.423641e+02</td>\n",
       "      <td>8.318577e+07</td>\n",
       "      <td>9.498648e+00</td>\n",
       "      <td>1.384745e+01</td>\n",
       "      <td>6.027363e+01</td>\n",
       "      <td>3.945128e+04</td>\n",
       "      <td>1.233856e-01</td>\n",
       "      <td>1.415170e+02</td>\n",
       "    </tr>\n",
       "    <tr>\n",
       "      <th>std</th>\n",
       "      <td>3.572646e+02</td>\n",
       "      <td>5.193580e+05</td>\n",
       "      <td>9.241353e+00</td>\n",
       "      <td>1.581392e+01</td>\n",
       "      <td>8.229015e+04</td>\n",
       "      <td>8.229015e+04</td>\n",
       "      <td>7.216875e-03</td>\n",
       "      <td>2.376738e-01</td>\n",
       "      <td>4.200700e-01</td>\n",
       "      <td>2.468406e-01</td>\n",
       "      <td>...</td>\n",
       "      <td>2.673509e+02</td>\n",
       "      <td>1.806643e+02</td>\n",
       "      <td>2.679248e+02</td>\n",
       "      <td>1.931526e+07</td>\n",
       "      <td>9.282701e-01</td>\n",
       "      <td>9.461443e+00</td>\n",
       "      <td>2.555251e+02</td>\n",
       "      <td>3.691113e+05</td>\n",
       "      <td>2.572401e-01</td>\n",
       "      <td>2.387379e+01</td>\n",
       "    </tr>\n",
       "    <tr>\n",
       "      <th>min</th>\n",
       "      <td>0.000000e+00</td>\n",
       "      <td>0.000000e+00</td>\n",
       "      <td>0.000000e+00</td>\n",
       "      <td>0.000000e+00</td>\n",
       "      <td>0.000000e+00</td>\n",
       "      <td>0.000000e+00</td>\n",
       "      <td>0.000000e+00</td>\n",
       "      <td>0.000000e+00</td>\n",
       "      <td>0.000000e+00</td>\n",
       "      <td>0.000000e+00</td>\n",
       "      <td>...</td>\n",
       "      <td>4.200000e+01</td>\n",
       "      <td>0.000000e+00</td>\n",
       "      <td>4.200000e+01</td>\n",
       "      <td>0.000000e+00</td>\n",
       "      <td>1.000000e+00</td>\n",
       "      <td>9.165152e+00</td>\n",
       "      <td>0.000000e+00</td>\n",
       "      <td>0.000000e+00</td>\n",
       "      <td>0.000000e+00</td>\n",
       "      <td>1.000000e+00</td>\n",
       "    </tr>\n",
       "    <tr>\n",
       "      <th>25%</th>\n",
       "      <td>0.000000e+00</td>\n",
       "      <td>5.400000e+01</td>\n",
       "      <td>6.000000e+00</td>\n",
       "      <td>6.400000e+01</td>\n",
       "      <td>2.199599e+00</td>\n",
       "      <td>2.199599e+00</td>\n",
       "      <td>0.000000e+00</td>\n",
       "      <td>0.000000e+00</td>\n",
       "      <td>0.000000e+00</td>\n",
       "      <td>0.000000e+00</td>\n",
       "      <td>...</td>\n",
       "      <td>5.004340e+01</td>\n",
       "      <td>0.000000e+00</td>\n",
       "      <td>5.010000e+01</td>\n",
       "      <td>8.303769e+07</td>\n",
       "      <td>9.500000e+00</td>\n",
       "      <td>1.000397e+01</td>\n",
       "      <td>0.000000e+00</td>\n",
       "      <td>0.000000e+00</td>\n",
       "      <td>0.000000e+00</td>\n",
       "      <td>1.415500e+02</td>\n",
       "    </tr>\n",
       "    <tr>\n",
       "      <th>50%</th>\n",
       "      <td>1.471646e-02</td>\n",
       "      <td>7.180000e+01</td>\n",
       "      <td>6.000000e+00</td>\n",
       "      <td>6.400000e+01</td>\n",
       "      <td>1.893450e+01</td>\n",
       "      <td>1.893450e+01</td>\n",
       "      <td>0.000000e+00</td>\n",
       "      <td>0.000000e+00</td>\n",
       "      <td>0.000000e+00</td>\n",
       "      <td>0.000000e+00</td>\n",
       "      <td>...</td>\n",
       "      <td>5.400000e+01</td>\n",
       "      <td>0.000000e+00</td>\n",
       "      <td>5.400000e+01</td>\n",
       "      <td>8.310670e+07</td>\n",
       "      <td>9.500000e+00</td>\n",
       "      <td>1.039230e+01</td>\n",
       "      <td>0.000000e+00</td>\n",
       "      <td>0.000000e+00</td>\n",
       "      <td>0.000000e+00</td>\n",
       "      <td>1.415500e+02</td>\n",
       "    </tr>\n",
       "    <tr>\n",
       "      <th>75%</th>\n",
       "      <td>2.321104e-01</td>\n",
       "      <td>1.375600e+04</td>\n",
       "      <td>1.684000e+01</td>\n",
       "      <td>6.400000e+01</td>\n",
       "      <td>8.567235e+02</td>\n",
       "      <td>8.567235e+02</td>\n",
       "      <td>0.000000e+00</td>\n",
       "      <td>0.000000e+00</td>\n",
       "      <td>0.000000e+00</td>\n",
       "      <td>0.000000e+00</td>\n",
       "      <td>...</td>\n",
       "      <td>5.441405e+01</td>\n",
       "      <td>1.092828e+00</td>\n",
       "      <td>5.450000e+01</td>\n",
       "      <td>8.334421e+07</td>\n",
       "      <td>9.500000e+00</td>\n",
       "      <td>1.042953e+01</td>\n",
       "      <td>1.544983e+00</td>\n",
       "      <td>8.568570e+00</td>\n",
       "      <td>1.300000e-01</td>\n",
       "      <td>1.415500e+02</td>\n",
       "    </tr>\n",
       "    <tr>\n",
       "      <th>max</th>\n",
       "      <td>3.943572e+05</td>\n",
       "      <td>9.831137e+06</td>\n",
       "      <td>4.700000e+01</td>\n",
       "      <td>2.550000e+02</td>\n",
       "      <td>8.388608e+06</td>\n",
       "      <td>8.388608e+06</td>\n",
       "      <td>1.336830e+01</td>\n",
       "      <td>1.000000e+00</td>\n",
       "      <td>1.000000e+00</td>\n",
       "      <td>1.000000e+00</td>\n",
       "      <td>...</td>\n",
       "      <td>8.040961e+03</td>\n",
       "      <td>1.034054e+04</td>\n",
       "      <td>9.430300e+03</td>\n",
       "      <td>1.676394e+08</td>\n",
       "      <td>1.500000e+01</td>\n",
       "      <td>1.252094e+02</td>\n",
       "      <td>1.464463e+04</td>\n",
       "      <td>1.077896e+08</td>\n",
       "      <td>1.000000e+00</td>\n",
       "      <td>2.446000e+02</td>\n",
       "    </tr>\n",
       "  </tbody>\n",
       "</table>\n",
       "<p>8 rows × 46 columns</p>\n",
       "</div>"
      ],
      "text/plain": [
       "       flow_duration  Header_Length  Protocol Type      Duration  \\\n",
       "count   3.628497e+06   3.628497e+06   3.628497e+06  3.628497e+06   \n",
       "mean    7.262128e+00   9.806340e+04   1.013753e+01  6.701270e+01   \n",
       "std     3.572646e+02   5.193580e+05   9.241353e+00  1.581392e+01   \n",
       "min     0.000000e+00   0.000000e+00   0.000000e+00  0.000000e+00   \n",
       "25%     0.000000e+00   5.400000e+01   6.000000e+00  6.400000e+01   \n",
       "50%     1.471646e-02   7.180000e+01   6.000000e+00  6.400000e+01   \n",
       "75%     2.321104e-01   1.375600e+04   1.684000e+01  6.400000e+01   \n",
       "max     3.943572e+05   9.831137e+06   4.700000e+01  2.550000e+02   \n",
       "\n",
       "               Rate         Srate         Drate  fin_flag_number  \\\n",
       "count  3.628497e+06  3.628497e+06  3.628497e+06     3.628497e+06   \n",
       "mean   8.175986e+03  8.175986e+03  7.574012e-06     6.010092e-02   \n",
       "std    8.229015e+04  8.229015e+04  7.216875e-03     2.376738e-01   \n",
       "min    0.000000e+00  0.000000e+00  0.000000e+00     0.000000e+00   \n",
       "25%    2.199599e+00  2.199599e+00  0.000000e+00     0.000000e+00   \n",
       "50%    1.893450e+01  1.893450e+01  0.000000e+00     0.000000e+00   \n",
       "75%    8.567235e+02  8.567235e+02  0.000000e+00     0.000000e+00   \n",
       "max    8.388608e+06  8.388608e+06  1.336830e+01     1.000000e+00   \n",
       "\n",
       "       syn_flag_number  rst_flag_number  ...           AVG           Std  \\\n",
       "count     3.628497e+06     3.628497e+06  ...  3.628497e+06  3.628497e+06   \n",
       "mean      2.288151e-01     6.517850e-02  ...  1.423634e+02  4.265004e+01   \n",
       "std       4.200700e-01     2.468406e-01  ...  2.673509e+02  1.806643e+02   \n",
       "min       0.000000e+00     0.000000e+00  ...  4.200000e+01  0.000000e+00   \n",
       "25%       0.000000e+00     0.000000e+00  ...  5.004340e+01  0.000000e+00   \n",
       "50%       0.000000e+00     0.000000e+00  ...  5.400000e+01  0.000000e+00   \n",
       "75%       0.000000e+00     0.000000e+00  ...  5.441405e+01  1.092828e+00   \n",
       "max       1.000000e+00     1.000000e+00  ...  8.040961e+03  1.034054e+04   \n",
       "\n",
       "           Tot size           IAT        Number      Magnitue        Radius  \\\n",
       "count  3.628497e+06  3.628497e+06  3.628497e+06  3.628497e+06  3.628497e+06   \n",
       "mean   1.423641e+02  8.318577e+07  9.498648e+00  1.384745e+01  6.027363e+01   \n",
       "std    2.679248e+02  1.931526e+07  9.282701e-01  9.461443e+00  2.555251e+02   \n",
       "min    4.200000e+01  0.000000e+00  1.000000e+00  9.165152e+00  0.000000e+00   \n",
       "25%    5.010000e+01  8.303769e+07  9.500000e+00  1.000397e+01  0.000000e+00   \n",
       "50%    5.400000e+01  8.310670e+07  9.500000e+00  1.039230e+01  0.000000e+00   \n",
       "75%    5.450000e+01  8.334421e+07  9.500000e+00  1.042953e+01  1.544983e+00   \n",
       "max    9.430300e+03  1.676394e+08  1.500000e+01  1.252094e+02  1.464463e+04   \n",
       "\n",
       "         Covariance      Variance        Weight  \n",
       "count  3.628497e+06  3.628497e+06  3.628497e+06  \n",
       "mean   3.945128e+04  1.233856e-01  1.415170e+02  \n",
       "std    3.691113e+05  2.572401e-01  2.387379e+01  \n",
       "min    0.000000e+00  0.000000e+00  1.000000e+00  \n",
       "25%    0.000000e+00  0.000000e+00  1.415500e+02  \n",
       "50%    0.000000e+00  0.000000e+00  1.415500e+02  \n",
       "75%    8.568570e+00  1.300000e-01  1.415500e+02  \n",
       "max    1.077896e+08  1.000000e+00  2.446000e+02  \n",
       "\n",
       "[8 rows x 46 columns]"
      ]
     },
     "execution_count": 8,
     "metadata": {},
     "output_type": "execute_result"
    }
   ],
   "source": [
    "dataset.describe()"
   ]
  },
  {
   "cell_type": "code",
   "execution_count": 9,
   "metadata": {},
   "outputs": [
    {
     "name": "stdout",
     "output_type": "stream",
     "text": [
      "Jumlah Serangan Pada Dataset: \n",
      "\n"
     ]
    },
    {
     "data": {
      "text/plain": [
       "Attack Type\n",
       "DDoS              2450879\n",
       "DoS                737933\n",
       "Mirai              242315\n",
       "BENIGN             109198\n",
       "Network Attack      53730\n",
       "Recon               31732\n",
       "Brute Force          1288\n",
       "Injection            1114\n",
       "Malware               308\n",
       "Name: count, dtype: int64"
      ]
     },
     "execution_count": 9,
     "metadata": {},
     "output_type": "execute_result"
    }
   ],
   "source": [
    "print(\"Jumlah Serangan Pada Dataset: \\n\")\n",
    "dataset['Attack Type'].value_counts()"
   ]
  },
  {
   "cell_type": "code",
   "execution_count": 10,
   "metadata": {},
   "outputs": [],
   "source": [
    "label_map = {\n",
    "    'BENIGN': 0,\n",
    "    'DDoS': 1,\n",
    "    'DoS': 2,\n",
    "    'Mirai': 3,\n",
    "    'Network Attack': 4,\n",
    "    'Recon': 5,\n",
    "    'Brute Force': 6,\n",
    "    'Injection': 7,\n",
    "    'Malware': 8,\n",
    "}\n",
    "dataset['Attack Type'] = dataset['Attack Type'].map(label_map)"
   ]
  },
  {
   "cell_type": "code",
   "execution_count": 11,
   "metadata": {},
   "outputs": [
    {
     "data": {
      "text/plain": [
       "Attack Type\n",
       "1    2450879\n",
       "2     737933\n",
       "3     242315\n",
       "0     109198\n",
       "4      53730\n",
       "5      31732\n",
       "6       1288\n",
       "7       1114\n",
       "8        308\n",
       "Name: count, dtype: int64"
      ]
     },
     "execution_count": 11,
     "metadata": {},
     "output_type": "execute_result"
    }
   ],
   "source": [
    "dataset['Attack Type'].value_counts()"
   ]
  },
  {
   "cell_type": "code",
   "execution_count": 12,
   "metadata": {},
   "outputs": [],
   "source": [
    "X = dataset.drop('Attack Type',axis=1)\n",
    "X = X.astype('float64')\n",
    "y = dataset['Attack Type']"
   ]
  },
  {
   "cell_type": "code",
   "execution_count": 13,
   "metadata": {},
   "outputs": [
    {
     "data": {
      "text/plain": [
       "flow_duration      0\n",
       "Header_Length      0\n",
       "Protocol Type      0\n",
       "Duration           0\n",
       "Rate               0\n",
       "Srate              0\n",
       "Drate              0\n",
       "fin_flag_number    0\n",
       "syn_flag_number    0\n",
       "rst_flag_number    0\n",
       "psh_flag_number    0\n",
       "ack_flag_number    0\n",
       "ece_flag_number    0\n",
       "cwr_flag_number    0\n",
       "ack_count          0\n",
       "syn_count          0\n",
       "fin_count          0\n",
       "urg_count          0\n",
       "rst_count          0\n",
       "HTTP               0\n",
       "HTTPS              0\n",
       "DNS                0\n",
       "Telnet             0\n",
       "SMTP               0\n",
       "SSH                0\n",
       "IRC                0\n",
       "TCP                0\n",
       "UDP                0\n",
       "DHCP               0\n",
       "ARP                0\n",
       "ICMP               0\n",
       "IPv                0\n",
       "LLC                0\n",
       "Tot sum            0\n",
       "Min                0\n",
       "Max                0\n",
       "AVG                0\n",
       "Std                0\n",
       "Tot size           0\n",
       "IAT                0\n",
       "Number             0\n",
       "Magnitue           0\n",
       "Radius             0\n",
       "Covariance         0\n",
       "Variance           0\n",
       "Weight             0\n",
       "dtype: int64"
      ]
     },
     "execution_count": 13,
     "metadata": {},
     "output_type": "execute_result"
    }
   ],
   "source": [
    "X.isnull().sum()"
   ]
  },
  {
   "cell_type": "code",
   "execution_count": 14,
   "metadata": {},
   "outputs": [
    {
     "data": {
      "text/plain": [
       "0"
      ]
     },
     "execution_count": 14,
     "metadata": {},
     "output_type": "execute_result"
    }
   ],
   "source": [
    "y.isnull().sum()"
   ]
  },
  {
   "cell_type": "code",
   "execution_count": 15,
   "metadata": {},
   "outputs": [],
   "source": [
    "# Bagi dataset menjadi data pelatihan dan data uji\n",
    "X_train, X_test, y_train, y_test = train_test_split(\n",
    "    X, y, test_size=0.2, random_state=42)"
   ]
  },
  {
   "cell_type": "code",
   "execution_count": 16,
   "metadata": {},
   "outputs": [
    {
     "name": "stdout",
     "output_type": "stream",
     "text": [
      "X_train: (2902797, 46)\n",
      "y_train: (2902797,)\n",
      "X_test: (725700, 46)\n",
      "y_test: (725700,)\n"
     ]
    }
   ],
   "source": [
    "print(\"X_train:\",X_train.shape)\n",
    "print(\"y_train:\",y_train.shape)\n",
    "\n",
    "print(\"X_test:\",X_test.shape)\n",
    "print(\"y_test:\",y_test.shape)"
   ]
  },
  {
   "cell_type": "code",
   "execution_count": 17,
   "metadata": {},
   "outputs": [],
   "source": [
    "# Inisialisasi StandardScaler\n",
    "scaler = StandardScaler()\n",
    "X_train = scaler.fit_transform(X_train)\n",
    "X_test = scaler.transform(X_test)"
   ]
  },
  {
   "cell_type": "code",
   "execution_count": 18,
   "metadata": {},
   "outputs": [
    {
     "name": "stdout",
     "output_type": "stream",
     "text": [
      "X_train: (2902797, 46)\n",
      "X_test: (725700, 46)\n"
     ]
    }
   ],
   "source": [
    "print(\"X_train:\",X_train.shape)\n",
    "\n",
    "print(\"X_test:\",X_test.shape)\n"
   ]
  },
  {
   "cell_type": "code",
   "execution_count": 19,
   "metadata": {},
   "outputs": [
    {
     "name": "stderr",
     "output_type": "stream",
     "text": [
      "2025-06-17 08:57:48.612488: I tensorflow/tsl/cuda/cudart_stub.cc:28] Could not find cuda drivers on your machine, GPU will not be used.\n",
      "2025-06-17 08:57:48.637827: I tensorflow/tsl/cuda/cudart_stub.cc:28] Could not find cuda drivers on your machine, GPU will not be used.\n",
      "2025-06-17 08:57:48.638685: I tensorflow/core/platform/cpu_feature_guard.cc:182] This TensorFlow binary is optimized to use available CPU instructions in performance-critical operations.\n",
      "To enable the following instructions: AVX2 FMA, in other operations, rebuild TensorFlow with the appropriate compiler flags.\n",
      "2025-06-17 08:57:49.167490: W tensorflow/compiler/tf2tensorrt/utils/py_utils.cc:38] TF-TRT Warning: Could not find TensorRT\n"
     ]
    }
   ],
   "source": [
    "from tensorflow.keras.models import Sequential\n",
    "from tensorflow.keras.layers import Dense\n",
    "from tensorflow.keras.utils import to_categorical\n",
    "from sklearn.metrics import classification_report, confusion_matrix"
   ]
  },
  {
   "cell_type": "code",
   "execution_count": 20,
   "metadata": {},
   "outputs": [
    {
     "name": "stderr",
     "output_type": "stream",
     "text": [
      "2025-06-17 08:57:49.829412: I tensorflow/compiler/xla/stream_executor/cuda/cuda_gpu_executor.cc:981] could not open file to read NUMA node: /sys/bus/pci/devices/0000:01:00.0/numa_node\n",
      "Your kernel may have been built without NUMA support.\n",
      "2025-06-17 08:57:49.829728: W tensorflow/core/common_runtime/gpu/gpu_device.cc:1960] Cannot dlopen some GPU libraries. Please make sure the missing libraries mentioned above are installed properly if you would like to use GPU. Follow the guide at https://www.tensorflow.org/install/gpu for how to download and setup the required libraries for your platform.\n",
      "Skipping registering GPU devices...\n"
     ]
    },
    {
     "name": "stdout",
     "output_type": "stream",
     "text": [
      "Epoch 1/5\n",
      "90713/90713 [==============================] - 100s 1ms/step - loss: 0.1220 - accuracy: 0.9504 - val_loss: 0.0443 - val_accuracy: 0.9831\n",
      "Epoch 2/5\n",
      "90713/90713 [==============================] - 100s 1ms/step - loss: 0.0431 - accuracy: 0.9845 - val_loss: 0.0374 - val_accuracy: 0.9864\n",
      "Epoch 3/5\n",
      "90713/90713 [==============================] - 103s 1ms/step - loss: 0.0384 - accuracy: 0.9862 - val_loss: 0.0342 - val_accuracy: 0.9871\n",
      "Epoch 4/5\n",
      "90713/90713 [==============================] - 102s 1ms/step - loss: 0.0394 - accuracy: 0.9866 - val_loss: 0.0375 - val_accuracy: 0.9872\n",
      "Epoch 5/5\n",
      "90713/90713 [==============================] - 102s 1ms/step - loss: 0.0367 - accuracy: 0.9869 - val_loss: 0.0349 - val_accuracy: 0.9873\n",
      "22679/22679 [==============================] - 23s 1ms/step - loss: 0.0349 - accuracy: 0.9873\n",
      "Test Loss: 0.03488526493310928\n",
      "Test Accuracy: 0.9872881174087524\n",
      "22679/22679 [==============================] - 15s 668us/step\n",
      "Confusion Matrix:\n",
      "[[ 20354      1      0      0    605   1100      0      0      0]\n",
      " [    93 489320    118     23    135      3      0      0      0]\n",
      " [   146    443 147171      1      6      1      0      0      0]\n",
      " [    37     17      0  48567      8      0      0      0      0]\n",
      " [  2738     52      0      0   7236    753      0      0      0]\n",
      " [  1624      0      0      0    761   3827      0      0      0]\n",
      " [   134      0      0      0     39     91      0      0      0]\n",
      " [    76      0      0      0     97     59      0      0      0]\n",
      " [    16      0      0      0     29     19      0      0      0]]\n",
      "\n",
      "Classification Report:\n"
     ]
    },
    {
     "name": "stderr",
     "output_type": "stream",
     "text": [
      "/home/mbc/thesissatria/fllib/lib/python3.8/site-packages/sklearn/metrics/_classification.py:1471: UndefinedMetricWarning: Precision and F-score are ill-defined and being set to 0.0 in labels with no predicted samples. Use `zero_division` parameter to control this behavior.\n",
      "  _warn_prf(average, modifier, msg_start, len(result))\n"
     ]
    },
    {
     "name": "stdout",
     "output_type": "stream",
     "text": [
      "              precision    recall  f1-score   support\n",
      "\n",
      "           0       0.81      0.92      0.86     22060\n",
      "           1       1.00      1.00      1.00    489692\n",
      "           2       1.00      1.00      1.00    147768\n",
      "           3       1.00      1.00      1.00     48629\n",
      "           4       0.81      0.67      0.73     10779\n",
      "           5       0.65      0.62      0.63      6212\n",
      "           6       0.00      0.00      0.00       264\n",
      "           7       0.00      0.00      0.00       232\n",
      "           8       0.00      0.00      0.00        64\n",
      "\n",
      "    accuracy                           0.99    725700\n",
      "   macro avg       0.59      0.58      0.58    725700\n",
      "weighted avg       0.99      0.99      0.99    725700\n",
      "\n"
     ]
    },
    {
     "name": "stderr",
     "output_type": "stream",
     "text": [
      "/home/mbc/thesissatria/fllib/lib/python3.8/site-packages/sklearn/metrics/_classification.py:1471: UndefinedMetricWarning: Precision and F-score are ill-defined and being set to 0.0 in labels with no predicted samples. Use `zero_division` parameter to control this behavior.\n",
      "  _warn_prf(average, modifier, msg_start, len(result))\n",
      "/home/mbc/thesissatria/fllib/lib/python3.8/site-packages/sklearn/metrics/_classification.py:1471: UndefinedMetricWarning: Precision and F-score are ill-defined and being set to 0.0 in labels with no predicted samples. Use `zero_division` parameter to control this behavior.\n",
      "  _warn_prf(average, modifier, msg_start, len(result))\n"
     ]
    }
   ],
   "source": [
    "# Mengubah label menjadi format kategori\n",
    "y_train_cat = to_categorical(y_train)\n",
    "y_test_cat = to_categorical(y_test)\n",
    "\n",
    "# Membuat model Deep Neural Network\n",
    "model = Sequential()\n",
    "\n",
    "# Menambahkan layer input dan hidden layers\n",
    "model.add(Dense(units=128, activation='relu', input_dim=X_train.shape[1]))\n",
    "model.add(Dense(units=64, activation='relu'))\n",
    "model.add(Dense(units=32, activation='relu'))\n",
    "\n",
    "# Menambahkan layer output\n",
    "model.add(Dense(units=9, activation='softmax'))  # 8 kelas\n",
    "\n",
    "# Menyusun model\n",
    "model.compile(optimizer='adam', loss='categorical_crossentropy', metrics=['accuracy'])\n",
    "\n",
    "# Melatih model\n",
    "history = model.fit(X_train, y_train_cat, epochs=5, batch_size=32, validation_data=(X_test, y_test_cat))\n",
    "\n",
    "# Evaluasi model\n",
    "loss, accuracy = model.evaluate(X_test, y_test_cat)\n",
    "print(f\"Test Loss: {loss}\")\n",
    "print(f\"Test Accuracy: {accuracy}\")\n",
    "\n",
    "# Prediksi menggunakan model\n",
    "y_pred = model.predict(X_test)\n",
    "y_pred_classes = np.argmax(y_pred, axis=1)\n",
    "\n",
    "# Menampilkan confusion matrix dan classification report\n",
    "print(\"Confusion Matrix:\")\n",
    "print(confusion_matrix(y_test, y_pred_classes))\n",
    "\n",
    "print(\"\\nClassification Report:\")\n",
    "print(classification_report(y_test, y_pred_classes))\n"
   ]
  },
  {
   "cell_type": "code",
   "execution_count": 21,
   "metadata": {},
   "outputs": [
    {
     "data": {
      "image/png": "[encoded data removed]",
      "text/plain": [
       "<Figure size 800x600 with 2 Axes>"
      ]
     },
     "metadata": {},
     "output_type": "display_data"
    }
   ],
   "source": [
    "import seaborn as sns\n",
    "\n",
    "# Membuat confusion matrix\n",
    "cm = confusion_matrix(y_test, y_pred_classes)\n",
    "\n",
    "# Membuat plot confusion matrix menggunakan seaborn\n",
    "plt.figure(figsize=(8, 6))\n",
    "sns.heatmap(cm, annot=True, fmt=\"d\", cmap=\"Blues\", xticklabels=label_map.keys(), yticklabels=label_map.keys())\n",
    "plt.title('Confusion Matrix')\n",
    "plt.xlabel('Predicted')\n",
    "plt.ylabel('True')\n",
    "plt.show()\n"
   ]
  },
  {
   "cell_type": "code",
   "execution_count": 22,
   "metadata": {},
   "outputs": [
    {
     "data": {
      "image/png": "[encoded data removed]",
      "text/plain": [
       "<Figure size 1200x500 with 2 Axes>"
      ]
     },
     "metadata": {},
     "output_type": "display_data"
    }
   ],
   "source": [
    "import matplotlib.pyplot as plt\n",
    "\n",
    "# Ambil jumlah total epoch dari history\n",
    "total_epochs = len(history.history['accuracy'])\n",
    "\n",
    "# Pastikan jumlah epoch mencapai 20\n",
    "epochs_range = range(1, total_epochs + 1)\n",
    "\n",
    "# Plot Akurasi\n",
    "plt.figure(figsize=(12, 5))\n",
    "plt.subplot(1, 2, 1)\n",
    "plt.plot(epochs_range, history.history['accuracy'], label='Train Accuracy')\n",
    "plt.plot(epochs_range, history.history['val_accuracy'], label='Validation Accuracy')\n",
    "plt.xlabel('Epochs')\n",
    "plt.ylabel('Accuracy')\n",
    "plt.title('Training and Validation Accuracy')\n",
    "plt.xticks(range(2, total_epochs + 1, 2))  # Menampilkan setiap 2 epoch mulai dari 2\n",
    "plt.legend()\n",
    "\n",
    "# Plot Loss\n",
    "plt.subplot(1, 2, 2)\n",
    "plt.plot(epochs_range, history.history['loss'], label='Train Loss')\n",
    "plt.plot(epochs_range, history.history['val_loss'], label='Validation Loss')\n",
    "plt.xlabel('Epochs')\n",
    "plt.ylabel('Loss')\n",
    "plt.title('Training and Validation Loss')\n",
    "plt.xticks(range(2, total_epochs + 1, 2))  # Menampilkan setiap 2 epoch mulai dari 2\n",
    "plt.legend()\n",
    "\n",
    "plt.show()"
   ]
  }
 ],
 "metadata": {
  "kernelspec": {
   "display_name": "fllib",
   "language": "python",
   "name": "python3"
  },
  "language_info": {
   "codemirror_mode": {
    "name": "ipython",
    "version": 3
   },
   "file_extension": ".py",
   "mimetype": "text/x-python",
   "name": "python",
   "nbconvert_exporter": "python",
   "pygments_lexer": "ipython3",
   "version": "3.8.10"
  }
 },
 "nbformat": 4,
 "nbformat_minor": 2
}
