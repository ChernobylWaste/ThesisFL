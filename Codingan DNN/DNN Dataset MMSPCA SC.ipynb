{
 "cells": [
  {
   "cell_type": "code",
   "execution_count": 2,
   "metadata": {},
   "outputs": [],
   "source": [
    "import pandas as pd\n",
    "import numpy as np\n",
    "import matplotlib.pyplot as plt\n",
    "from sklearn.model_selection import train_test_split\n",
    "from sklearn.preprocessing import StandardScaler\n",
    "from sklearn.model_selection import train_test_split\n"
   ]
  },
  {
   "cell_type": "code",
   "execution_count": 3,
   "metadata": {},
   "outputs": [],
   "source": [
    "dataset = pd.read_csv(\"/home/mbc/thesissatria/Dataset/CICIOT2023_MMSPCA.csv\")"
   ]
  },
  {
   "cell_type": "code",
   "execution_count": 4,
   "metadata": {},
   "outputs": [
    {
     "name": "stdout",
     "output_type": "stream",
     "text": [
      "<class 'pandas.core.frame.DataFrame'>\n",
      "RangeIndex: 3628497 entries, 0 to 3628496\n",
      "Data columns (total 24 columns):\n",
      " #   Column       Dtype  \n",
      "---  ------       -----  \n",
      " 0   PC1          float64\n",
      " 1   PC2          float64\n",
      " 2   PC3          float64\n",
      " 3   PC4          float64\n",
      " 4   PC5          float64\n",
      " 5   PC6          float64\n",
      " 6   PC7          float64\n",
      " 7   PC8          float64\n",
      " 8   PC9          float64\n",
      " 9   PC10         float64\n",
      " 10  PC11         float64\n",
      " 11  PC12         float64\n",
      " 12  PC13         float64\n",
      " 13  PC14         float64\n",
      " 14  PC15         float64\n",
      " 15  PC16         float64\n",
      " 16  PC17         float64\n",
      " 17  PC18         float64\n",
      " 18  PC19         float64\n",
      " 19  PC20         float64\n",
      " 20  PC21         float64\n",
      " 21  PC22         float64\n",
      " 22  PC23         float64\n",
      " 23  Attack Type  object \n",
      "dtypes: float64(23), object(1)\n",
      "memory usage: 664.4+ MB\n"
     ]
    }
   ],
   "source": [
    "dataset.info()"
   ]
  },
  {
   "cell_type": "code",
   "execution_count": 5,
   "metadata": {},
   "outputs": [
    {
     "name": "stdout",
     "output_type": "stream",
     "text": [
      "Jumlah Duplikat: 3\n"
     ]
    }
   ],
   "source": [
    "dups = dataset[dataset.duplicated()]\n",
    "print(f'Jumlah Duplikat: {len(dups)}')"
   ]
  },
  {
   "cell_type": "code",
   "execution_count": 6,
   "metadata": {},
   "outputs": [
    {
     "name": "stdout",
     "output_type": "stream",
     "text": [
      "Ukuran Dataset Sebelum Drop Duplikat:\n",
      "\n"
     ]
    },
    {
     "data": {
      "text/plain": [
       "(3628497, 24)"
      ]
     },
     "execution_count": 6,
     "metadata": {},
     "output_type": "execute_result"
    }
   ],
   "source": [
    "print(\"Ukuran Dataset Sebelum Drop Duplikat:\\n\")\n",
    "dataset.shape"
   ]
  },
  {
   "cell_type": "code",
   "execution_count": 7,
   "metadata": {},
   "outputs": [
    {
     "name": "stdout",
     "output_type": "stream",
     "text": [
      "Ukuran Dataset Sesudah Drop Duplikat:\n",
      "\n"
     ]
    },
    {
     "data": {
      "text/plain": [
       "(3628494, 24)"
      ]
     },
     "execution_count": 7,
     "metadata": {},
     "output_type": "execute_result"
    }
   ],
   "source": [
    "print(\"Ukuran Dataset Sesudah Drop Duplikat:\\n\")\n",
    "dataset.drop_duplicates(inplace = True)\n",
    "dataset.shape"
   ]
  },
  {
   "cell_type": "code",
   "execution_count": 8,
   "metadata": {},
   "outputs": [
    {
     "name": "stdout",
     "output_type": "stream",
     "text": [
      "Series([], dtype: int64)\n",
      "Series([], dtype: int64)\n",
      "Nilai Hilang 0\n"
     ]
    }
   ],
   "source": [
    "missing_val = dataset.isna().sum()\n",
    "print(missing_val.loc[missing_val > 0])\n",
    "\n",
    "numeric_cols = dataset.select_dtypes(include = np.number).columns\n",
    "inf_count = np.isinf(dataset[numeric_cols]).sum()\n",
    "print(inf_count[inf_count > 0])\n",
    "\n",
    "print(f'Nilai Hilang {dataset.isna().sum().sum()}')"
   ]
  },
  {
   "cell_type": "code",
   "execution_count": 9,
   "metadata": {},
   "outputs": [
    {
     "data": {
      "text/html": [
       "<div>\n",
       "<style scoped>\n",
       "    .dataframe tbody tr th:only-of-type {\n",
       "        vertical-align: middle;\n",
       "    }\n",
       "\n",
       "    .dataframe tbody tr th {\n",
       "        vertical-align: top;\n",
       "    }\n",
       "\n",
       "    .dataframe thead th {\n",
       "        text-align: right;\n",
       "    }\n",
       "</style>\n",
       "<table border=\"1\" class=\"dataframe\">\n",
       "  <thead>\n",
       "    <tr style=\"text-align: right;\">\n",
       "      <th></th>\n",
       "      <th>PC1</th>\n",
       "      <th>PC2</th>\n",
       "      <th>PC3</th>\n",
       "      <th>PC4</th>\n",
       "      <th>PC5</th>\n",
       "      <th>PC6</th>\n",
       "      <th>PC7</th>\n",
       "      <th>PC8</th>\n",
       "      <th>PC9</th>\n",
       "      <th>PC10</th>\n",
       "      <th>...</th>\n",
       "      <th>PC14</th>\n",
       "      <th>PC15</th>\n",
       "      <th>PC16</th>\n",
       "      <th>PC17</th>\n",
       "      <th>PC18</th>\n",
       "      <th>PC19</th>\n",
       "      <th>PC20</th>\n",
       "      <th>PC21</th>\n",
       "      <th>PC22</th>\n",
       "      <th>PC23</th>\n",
       "    </tr>\n",
       "  </thead>\n",
       "  <tbody>\n",
       "    <tr>\n",
       "      <th>count</th>\n",
       "      <td>3.628494e+06</td>\n",
       "      <td>3.628494e+06</td>\n",
       "      <td>3.628494e+06</td>\n",
       "      <td>3.628494e+06</td>\n",
       "      <td>3.628494e+06</td>\n",
       "      <td>3.628494e+06</td>\n",
       "      <td>3.628494e+06</td>\n",
       "      <td>3.628494e+06</td>\n",
       "      <td>3.628494e+06</td>\n",
       "      <td>3.628494e+06</td>\n",
       "      <td>...</td>\n",
       "      <td>3.628494e+06</td>\n",
       "      <td>3.628494e+06</td>\n",
       "      <td>3.628494e+06</td>\n",
       "      <td>3.628494e+06</td>\n",
       "      <td>3.628494e+06</td>\n",
       "      <td>3.628494e+06</td>\n",
       "      <td>3.628494e+06</td>\n",
       "      <td>3.628494e+06</td>\n",
       "      <td>3.628494e+06</td>\n",
       "      <td>3.628494e+06</td>\n",
       "    </tr>\n",
       "    <tr>\n",
       "      <th>mean</th>\n",
       "      <td>3.690710e-07</td>\n",
       "      <td>5.834153e-08</td>\n",
       "      <td>-8.238653e-07</td>\n",
       "      <td>1.615668e-07</td>\n",
       "      <td>1.659303e-07</td>\n",
       "      <td>1.222341e-07</td>\n",
       "      <td>-5.066799e-08</td>\n",
       "      <td>-6.767447e-08</td>\n",
       "      <td>-3.256579e-08</td>\n",
       "      <td>-2.115469e-08</td>\n",
       "      <td>...</td>\n",
       "      <td>-4.975920e-10</td>\n",
       "      <td>1.024203e-08</td>\n",
       "      <td>-1.109709e-09</td>\n",
       "      <td>-1.204638e-10</td>\n",
       "      <td>5.774051e-10</td>\n",
       "      <td>-4.708006e-10</td>\n",
       "      <td>5.712269e-10</td>\n",
       "      <td>1.280583e-09</td>\n",
       "      <td>-4.331201e-10</td>\n",
       "      <td>-6.978903e-10</td>\n",
       "    </tr>\n",
       "    <tr>\n",
       "      <th>std</th>\n",
       "      <td>6.791920e-01</td>\n",
       "      <td>4.532402e-01</td>\n",
       "      <td>3.995650e-01</td>\n",
       "      <td>3.725502e-01</td>\n",
       "      <td>2.956758e-01</td>\n",
       "      <td>2.256159e-01</td>\n",
       "      <td>2.084116e-01</td>\n",
       "      <td>2.047579e-01</td>\n",
       "      <td>1.830670e-01</td>\n",
       "      <td>1.629002e-01</td>\n",
       "      <td>...</td>\n",
       "      <td>5.010837e-02</td>\n",
       "      <td>4.555624e-02</td>\n",
       "      <td>4.184856e-02</td>\n",
       "      <td>2.805372e-02</td>\n",
       "      <td>2.144935e-02</td>\n",
       "      <td>1.856545e-02</td>\n",
       "      <td>1.510711e-02</td>\n",
       "      <td>1.383431e-02</td>\n",
       "      <td>1.255650e-02</td>\n",
       "      <td>1.134528e-02</td>\n",
       "    </tr>\n",
       "    <tr>\n",
       "      <th>min</th>\n",
       "      <td>-9.685212e-01</td>\n",
       "      <td>-1.498788e+00</td>\n",
       "      <td>-4.166128e-01</td>\n",
       "      <td>-7.253359e-01</td>\n",
       "      <td>-6.736896e-01</td>\n",
       "      <td>-7.568902e-01</td>\n",
       "      <td>-6.229967e-01</td>\n",
       "      <td>-8.050700e-01</td>\n",
       "      <td>-7.368300e-01</td>\n",
       "      <td>-1.021139e+00</td>\n",
       "      <td>...</td>\n",
       "      <td>-8.800931e-01</td>\n",
       "      <td>-6.870369e-01</td>\n",
       "      <td>-1.058963e+00</td>\n",
       "      <td>-1.650097e-01</td>\n",
       "      <td>-4.713045e-01</td>\n",
       "      <td>-1.678446e+00</td>\n",
       "      <td>-1.203687e+00</td>\n",
       "      <td>-5.590967e-02</td>\n",
       "      <td>-2.564384e-02</td>\n",
       "      <td>-3.676589e-01</td>\n",
       "    </tr>\n",
       "    <tr>\n",
       "      <th>25%</th>\n",
       "      <td>-9.173808e-01</td>\n",
       "      <td>-9.567233e-02</td>\n",
       "      <td>-3.272150e-01</td>\n",
       "      <td>-1.954142e-01</td>\n",
       "      <td>-8.582356e-02</td>\n",
       "      <td>-1.071361e-01</td>\n",
       "      <td>-5.264863e-02</td>\n",
       "      <td>-1.292222e-01</td>\n",
       "      <td>-6.286072e-02</td>\n",
       "      <td>-8.840409e-03</td>\n",
       "      <td>...</td>\n",
       "      <td>-5.789411e-03</td>\n",
       "      <td>-8.454532e-03</td>\n",
       "      <td>-7.489468e-03</td>\n",
       "      <td>-1.530099e-03</td>\n",
       "      <td>-7.719010e-04</td>\n",
       "      <td>-1.784156e-04</td>\n",
       "      <td>-2.440145e-03</td>\n",
       "      <td>-1.545592e-03</td>\n",
       "      <td>-3.080251e-04</td>\n",
       "      <td>-7.189626e-04</td>\n",
       "    </tr>\n",
       "    <tr>\n",
       "      <th>50%</th>\n",
       "      <td>3.494702e-01</td>\n",
       "      <td>-6.621499e-03</td>\n",
       "      <td>-7.316850e-02</td>\n",
       "      <td>-3.201886e-02</td>\n",
       "      <td>-5.103221e-02</td>\n",
       "      <td>-7.094930e-02</td>\n",
       "      <td>1.582933e-02</td>\n",
       "      <td>1.558992e-02</td>\n",
       "      <td>-1.223277e-02</td>\n",
       "      <td>-2.223570e-03</td>\n",
       "      <td>...</td>\n",
       "      <td>-1.911807e-03</td>\n",
       "      <td>-4.917366e-03</td>\n",
       "      <td>2.378451e-03</td>\n",
       "      <td>-7.171285e-04</td>\n",
       "      <td>9.033489e-04</td>\n",
       "      <td>7.194355e-05</td>\n",
       "      <td>-6.908424e-04</td>\n",
       "      <td>-8.749164e-04</td>\n",
       "      <td>1.008472e-04</td>\n",
       "      <td>1.483179e-04</td>\n",
       "    </tr>\n",
       "    <tr>\n",
       "      <th>75%</th>\n",
       "      <td>6.137734e-01</td>\n",
       "      <td>1.084587e-01</td>\n",
       "      <td>4.851526e-02</td>\n",
       "      <td>3.983250e-02</td>\n",
       "      <td>4.151587e-02</td>\n",
       "      <td>4.204513e-02</td>\n",
       "      <td>6.127733e-02</td>\n",
       "      <td>8.185162e-02</td>\n",
       "      <td>1.775824e-02</td>\n",
       "      <td>1.208882e-02</td>\n",
       "      <td>...</td>\n",
       "      <td>5.067922e-04</td>\n",
       "      <td>8.242954e-03</td>\n",
       "      <td>6.151287e-03</td>\n",
       "      <td>1.114512e-03</td>\n",
       "      <td>5.959038e-03</td>\n",
       "      <td>2.422994e-04</td>\n",
       "      <td>2.867997e-04</td>\n",
       "      <td>-5.864392e-04</td>\n",
       "      <td>3.218035e-04</td>\n",
       "      <td>3.988404e-04</td>\n",
       "    </tr>\n",
       "    <tr>\n",
       "      <th>max</th>\n",
       "      <td>9.751694e-01</td>\n",
       "      <td>6.340439e-01</td>\n",
       "      <td>1.039128e+00</td>\n",
       "      <td>1.398103e+00</td>\n",
       "      <td>1.450489e+00</td>\n",
       "      <td>9.704838e-01</td>\n",
       "      <td>1.046801e+00</td>\n",
       "      <td>8.766610e-01</td>\n",
       "      <td>7.794824e-01</td>\n",
       "      <td>8.475416e-01</td>\n",
       "      <td>...</td>\n",
       "      <td>7.130878e-01</td>\n",
       "      <td>4.245966e-01</td>\n",
       "      <td>7.793388e-01</td>\n",
       "      <td>9.174564e-01</td>\n",
       "      <td>7.324025e-01</td>\n",
       "      <td>2.939482e-02</td>\n",
       "      <td>6.104942e-01</td>\n",
       "      <td>1.412871e+00</td>\n",
       "      <td>1.001285e+00</td>\n",
       "      <td>4.884579e-01</td>\n",
       "    </tr>\n",
       "  </tbody>\n",
       "</table>\n",
       "<p>8 rows × 23 columns</p>\n",
       "</div>"
      ],
      "text/plain": [
       "                PC1           PC2           PC3           PC4           PC5  \\\n",
       "count  3.628494e+06  3.628494e+06  3.628494e+06  3.628494e+06  3.628494e+06   \n",
       "mean   3.690710e-07  5.834153e-08 -8.238653e-07  1.615668e-07  1.659303e-07   \n",
       "std    6.791920e-01  4.532402e-01  3.995650e-01  3.725502e-01  2.956758e-01   \n",
       "min   -9.685212e-01 -1.498788e+00 -4.166128e-01 -7.253359e-01 -6.736896e-01   \n",
       "25%   -9.173808e-01 -9.567233e-02 -3.272150e-01 -1.954142e-01 -8.582356e-02   \n",
       "50%    3.494702e-01 -6.621499e-03 -7.316850e-02 -3.201886e-02 -5.103221e-02   \n",
       "75%    6.137734e-01  1.084587e-01  4.851526e-02  3.983250e-02  4.151587e-02   \n",
       "max    9.751694e-01  6.340439e-01  1.039128e+00  1.398103e+00  1.450489e+00   \n",
       "\n",
       "                PC6           PC7           PC8           PC9          PC10  \\\n",
       "count  3.628494e+06  3.628494e+06  3.628494e+06  3.628494e+06  3.628494e+06   \n",
       "mean   1.222341e-07 -5.066799e-08 -6.767447e-08 -3.256579e-08 -2.115469e-08   \n",
       "std    2.256159e-01  2.084116e-01  2.047579e-01  1.830670e-01  1.629002e-01   \n",
       "min   -7.568902e-01 -6.229967e-01 -8.050700e-01 -7.368300e-01 -1.021139e+00   \n",
       "25%   -1.071361e-01 -5.264863e-02 -1.292222e-01 -6.286072e-02 -8.840409e-03   \n",
       "50%   -7.094930e-02  1.582933e-02  1.558992e-02 -1.223277e-02 -2.223570e-03   \n",
       "75%    4.204513e-02  6.127733e-02  8.185162e-02  1.775824e-02  1.208882e-02   \n",
       "max    9.704838e-01  1.046801e+00  8.766610e-01  7.794824e-01  8.475416e-01   \n",
       "\n",
       "       ...          PC14          PC15          PC16          PC17  \\\n",
       "count  ...  3.628494e+06  3.628494e+06  3.628494e+06  3.628494e+06   \n",
       "mean   ... -4.975920e-10  1.024203e-08 -1.109709e-09 -1.204638e-10   \n",
       "std    ...  5.010837e-02  4.555624e-02  4.184856e-02  2.805372e-02   \n",
       "min    ... -8.800931e-01 -6.870369e-01 -1.058963e+00 -1.650097e-01   \n",
       "25%    ... -5.789411e-03 -8.454532e-03 -7.489468e-03 -1.530099e-03   \n",
       "50%    ... -1.911807e-03 -4.917366e-03  2.378451e-03 -7.171285e-04   \n",
       "75%    ...  5.067922e-04  8.242954e-03  6.151287e-03  1.114512e-03   \n",
       "max    ...  7.130878e-01  4.245966e-01  7.793388e-01  9.174564e-01   \n",
       "\n",
       "               PC18          PC19          PC20          PC21          PC22  \\\n",
       "count  3.628494e+06  3.628494e+06  3.628494e+06  3.628494e+06  3.628494e+06   \n",
       "mean   5.774051e-10 -4.708006e-10  5.712269e-10  1.280583e-09 -4.331201e-10   \n",
       "std    2.144935e-02  1.856545e-02  1.510711e-02  1.383431e-02  1.255650e-02   \n",
       "min   -4.713045e-01 -1.678446e+00 -1.203687e+00 -5.590967e-02 -2.564384e-02   \n",
       "25%   -7.719010e-04 -1.784156e-04 -2.440145e-03 -1.545592e-03 -3.080251e-04   \n",
       "50%    9.033489e-04  7.194355e-05 -6.908424e-04 -8.749164e-04  1.008472e-04   \n",
       "75%    5.959038e-03  2.422994e-04  2.867997e-04 -5.864392e-04  3.218035e-04   \n",
       "max    7.324025e-01  2.939482e-02  6.104942e-01  1.412871e+00  1.001285e+00   \n",
       "\n",
       "               PC23  \n",
       "count  3.628494e+06  \n",
       "mean  -6.978903e-10  \n",
       "std    1.134528e-02  \n",
       "min   -3.676589e-01  \n",
       "25%   -7.189626e-04  \n",
       "50%    1.483179e-04  \n",
       "75%    3.988404e-04  \n",
       "max    4.884579e-01  \n",
       "\n",
       "[8 rows x 23 columns]"
      ]
     },
     "execution_count": 9,
     "metadata": {},
     "output_type": "execute_result"
    }
   ],
   "source": [
    "dataset.describe()"
   ]
  },
  {
   "cell_type": "code",
   "execution_count": 10,
   "metadata": {},
   "outputs": [
    {
     "name": "stdout",
     "output_type": "stream",
     "text": [
      "Jumlah Serangan Pada Dataset: \n",
      "\n"
     ]
    },
    {
     "data": {
      "text/plain": [
       "Attack Type\n",
       "DDoS              2450876\n",
       "DoS                737933\n",
       "Mirai              242315\n",
       "BENIGN             109198\n",
       "Network Attack      53730\n",
       "Recon               31732\n",
       "Brute Force          1288\n",
       "Injection            1114\n",
       "Malware               308\n",
       "Name: count, dtype: int64"
      ]
     },
     "execution_count": 10,
     "metadata": {},
     "output_type": "execute_result"
    }
   ],
   "source": [
    "print(\"Jumlah Serangan Pada Dataset: \\n\")\n",
    "dataset['Attack Type'].value_counts()"
   ]
  },
  {
   "cell_type": "code",
   "execution_count": 11,
   "metadata": {},
   "outputs": [],
   "source": [
    "label_map = {\n",
    "    'BENIGN': 0,\n",
    "    'DDoS': 1,\n",
    "    'DoS': 2,\n",
    "    'Mirai': 3,\n",
    "    'Network Attack': 4,\n",
    "    'Recon': 5,\n",
    "    'Brute Force': 6,\n",
    "    'Injection': 7,\n",
    "    'Malware': 8,\n",
    "}\n",
    "dataset['Attack Type'] = dataset['Attack Type'].map(label_map)"
   ]
  },
  {
   "cell_type": "code",
   "execution_count": 12,
   "metadata": {},
   "outputs": [
    {
     "data": {
      "text/plain": [
       "Attack Type\n",
       "1    2450876\n",
       "2     737933\n",
       "3     242315\n",
       "0     109198\n",
       "4      53730\n",
       "5      31732\n",
       "6       1288\n",
       "7       1114\n",
       "8        308\n",
       "Name: count, dtype: int64"
      ]
     },
     "execution_count": 12,
     "metadata": {},
     "output_type": "execute_result"
    }
   ],
   "source": [
    "dataset['Attack Type'].value_counts()"
   ]
  },
  {
   "cell_type": "code",
   "execution_count": 13,
   "metadata": {},
   "outputs": [],
   "source": [
    "X = dataset.drop('Attack Type',axis=1)\n",
    "X = X.astype('float64')\n",
    "y = dataset['Attack Type']"
   ]
  },
  {
   "cell_type": "code",
   "execution_count": 14,
   "metadata": {},
   "outputs": [
    {
     "data": {
      "text/plain": [
       "PC1     0\n",
       "PC2     0\n",
       "PC3     0\n",
       "PC4     0\n",
       "PC5     0\n",
       "PC6     0\n",
       "PC7     0\n",
       "PC8     0\n",
       "PC9     0\n",
       "PC10    0\n",
       "PC11    0\n",
       "PC12    0\n",
       "PC13    0\n",
       "PC14    0\n",
       "PC15    0\n",
       "PC16    0\n",
       "PC17    0\n",
       "PC18    0\n",
       "PC19    0\n",
       "PC20    0\n",
       "PC21    0\n",
       "PC22    0\n",
       "PC23    0\n",
       "dtype: int64"
      ]
     },
     "execution_count": 14,
     "metadata": {},
     "output_type": "execute_result"
    }
   ],
   "source": [
    "X.isnull().sum()"
   ]
  },
  {
   "cell_type": "code",
   "execution_count": 15,
   "metadata": {},
   "outputs": [
    {
     "data": {
      "text/plain": [
       "0"
      ]
     },
     "execution_count": 15,
     "metadata": {},
     "output_type": "execute_result"
    }
   ],
   "source": [
    "y.isnull().sum()"
   ]
  },
  {
   "cell_type": "code",
   "execution_count": 16,
   "metadata": {},
   "outputs": [],
   "source": [
    "# Bagi dataset menjadi data pelatihan dan data uji\n",
    "X_train, X_test, y_train, y_test = train_test_split(\n",
    "    X, y, test_size=0.2, random_state=42)"
   ]
  },
  {
   "cell_type": "code",
   "execution_count": 17,
   "metadata": {},
   "outputs": [
    {
     "name": "stdout",
     "output_type": "stream",
     "text": [
      "X_train: (2902795, 23)\n",
      "y_train: (2902795,)\n",
      "X_test: (725699, 23)\n",
      "y_test: (725699,)\n"
     ]
    }
   ],
   "source": [
    "print(\"X_train:\",X_train.shape)\n",
    "print(\"y_train:\",y_train.shape)\n",
    "\n",
    "print(\"X_test:\",X_test.shape)\n",
    "print(\"y_test:\",y_test.shape)"
   ]
  },
  {
   "cell_type": "code",
   "execution_count": 18,
   "metadata": {},
   "outputs": [],
   "source": [
    "scaler = StandardScaler()\n",
    "X_train = scaler.fit_transform(X_train)\n",
    "X_test = scaler.transform(X_test)"
   ]
  },
  {
   "cell_type": "code",
   "execution_count": 19,
   "metadata": {},
   "outputs": [
    {
     "name": "stdout",
     "output_type": "stream",
     "text": [
      "X_train: (2902795, 23)\n",
      "X_test: (725699, 23)\n"
     ]
    }
   ],
   "source": [
    "print(\"X_train:\",X_train.shape)\n",
    "\n",
    "print(\"X_test:\",X_test.shape)\n"
   ]
  },
  {
   "cell_type": "code",
   "execution_count": 20,
   "metadata": {},
   "outputs": [
    {
     "name": "stderr",
     "output_type": "stream",
     "text": [
      "2025-03-06 21:11:42.399326: I tensorflow/tsl/cuda/cudart_stub.cc:28] Could not find cuda drivers on your machine, GPU will not be used.\n",
      "2025-03-06 21:11:42.426116: I tensorflow/tsl/cuda/cudart_stub.cc:28] Could not find cuda drivers on your machine, GPU will not be used.\n",
      "2025-03-06 21:11:42.426637: I tensorflow/core/platform/cpu_feature_guard.cc:182] This TensorFlow binary is optimized to use available CPU instructions in performance-critical operations.\n",
      "To enable the following instructions: AVX2 FMA, in other operations, rebuild TensorFlow with the appropriate compiler flags.\n",
      "2025-03-06 21:11:43.056089: W tensorflow/compiler/tf2tensorrt/utils/py_utils.cc:38] TF-TRT Warning: Could not find TensorRT\n"
     ]
    }
   ],
   "source": [
    "from tensorflow.keras.models import Sequential\n",
    "from tensorflow.keras.layers import Dense\n",
    "from tensorflow.keras.utils import to_categorical\n",
    "from sklearn.metrics import classification_report, confusion_matrix"
   ]
  },
  {
   "cell_type": "code",
   "execution_count": 21,
   "metadata": {},
   "outputs": [
    {
     "name": "stderr",
     "output_type": "stream",
     "text": [
      "2025-03-06 21:11:43.805771: I tensorflow/compiler/xla/stream_executor/cuda/cuda_gpu_executor.cc:981] could not open file to read NUMA node: /sys/bus/pci/devices/0000:01:00.0/numa_node\n",
      "Your kernel may have been built without NUMA support.\n",
      "2025-03-06 21:11:43.806198: W tensorflow/core/common_runtime/gpu/gpu_device.cc:1960] Cannot dlopen some GPU libraries. Please make sure the missing libraries mentioned above are installed properly if you would like to use GPU. Follow the guide at https://www.tensorflow.org/install/gpu for how to download and setup the required libraries for your platform.\n",
      "Skipping registering GPU devices...\n"
     ]
    },
    {
     "name": "stdout",
     "output_type": "stream",
     "text": [
      "Epoch 1/20\n",
      "45357/45357 [==============================] - 56s 1ms/step - loss: 0.3346 - accuracy: 0.8392 - val_loss: 0.2743 - val_accuracy: 0.8941\n",
      "Epoch 2/20\n",
      "45357/45357 [==============================] - 54s 1ms/step - loss: 0.1720 - accuracy: 0.9292 - val_loss: 0.0999 - val_accuracy: 0.9632\n",
      "Epoch 3/20\n",
      "45357/45357 [==============================] - 55s 1ms/step - loss: 0.1173 - accuracy: 0.9552 - val_loss: 0.0808 - val_accuracy: 0.9685\n",
      "Epoch 4/20\n",
      "45357/45357 [==============================] - 54s 1ms/step - loss: 0.1147 - accuracy: 0.9574 - val_loss: 0.2055 - val_accuracy: 0.9194\n",
      "Epoch 5/20\n",
      "45357/45357 [==============================] - 54s 1ms/step - loss: 0.0955 - accuracy: 0.9646 - val_loss: 0.0719 - val_accuracy: 0.9755\n",
      "Epoch 6/20\n",
      "45357/45357 [==============================] - 55s 1ms/step - loss: 0.0873 - accuracy: 0.9682 - val_loss: 0.0664 - val_accuracy: 0.9762\n",
      "Epoch 7/20\n",
      "45357/45357 [==============================] - 52s 1ms/step - loss: 0.0834 - accuracy: 0.9695 - val_loss: 0.0667 - val_accuracy: 0.9763\n",
      "Epoch 8/20\n",
      "45357/45357 [==============================] - 52s 1ms/step - loss: 0.0732 - accuracy: 0.9739 - val_loss: 0.0600 - val_accuracy: 0.9785\n",
      "Epoch 9/20\n",
      "45357/45357 [==============================] - 53s 1ms/step - loss: 0.0691 - accuracy: 0.9757 - val_loss: 0.0494 - val_accuracy: 0.9828\n",
      "Epoch 10/20\n",
      "45357/45357 [==============================] - 54s 1ms/step - loss: 0.0685 - accuracy: 0.9755 - val_loss: 0.0659 - val_accuracy: 0.9739\n",
      "Epoch 11/20\n",
      "45357/45357 [==============================] - 51s 1ms/step - loss: 0.0700 - accuracy: 0.9750 - val_loss: 0.0499 - val_accuracy: 0.9823\n",
      "Epoch 12/20\n",
      "45357/45357 [==============================] - 54s 1ms/step - loss: 0.0723 - accuracy: 0.9754 - val_loss: 0.0503 - val_accuracy: 0.9831\n",
      "Epoch 13/20\n",
      "45357/45357 [==============================] - 57s 1ms/step - loss: 0.0740 - accuracy: 0.9754 - val_loss: 0.0818 - val_accuracy: 0.9798\n",
      "Epoch 14/20\n",
      "45357/45357 [==============================] - 54s 1ms/step - loss: 0.0728 - accuracy: 0.9745 - val_loss: 0.1006 - val_accuracy: 0.9550\n",
      "Epoch 15/20\n",
      "45357/45357 [==============================] - 55s 1ms/step - loss: 0.0879 - accuracy: 0.9679 - val_loss: 0.0676 - val_accuracy: 0.9755\n",
      "Epoch 16/20\n",
      "45357/45357 [==============================] - 54s 1ms/step - loss: 0.0814 - accuracy: 0.9690 - val_loss: 0.0619 - val_accuracy: 0.9812\n",
      "Epoch 17/20\n",
      "45357/45357 [==============================] - 53s 1ms/step - loss: 0.0697 - accuracy: 0.9754 - val_loss: 0.0585 - val_accuracy: 0.9794\n",
      "Epoch 18/20\n",
      "45357/45357 [==============================] - 54s 1ms/step - loss: 0.0730 - accuracy: 0.9775 - val_loss: 0.0799 - val_accuracy: 0.9744\n",
      "Epoch 19/20\n",
      "45357/45357 [==============================] - 52s 1ms/step - loss: 0.0652 - accuracy: 0.9772 - val_loss: 0.0674 - val_accuracy: 0.9745\n",
      "Epoch 20/20\n",
      "45357/45357 [==============================] - 53s 1ms/step - loss: 0.0800 - accuracy: 0.9709 - val_loss: 0.0559 - val_accuracy: 0.9775\n",
      "22679/22679 [==============================] - 20s 889us/step - loss: 0.0559 - accuracy: 0.9775\n",
      "Test Loss: 0.05594713240861893\n",
      "Test Accuracy: 0.9774810075759888\n",
      "22679/22679 [==============================] - 17s 734us/step\n",
      "Confusion Matrix:\n",
      "[[ 21107     16      9      0    632    248      0      0      0]\n",
      " [     2 485180   4682     30    162      1      0      0      0]\n",
      " [     2   2014 145679      5     49      1      0      0      0]\n",
      " [     0    202     42  48000     67      0      0      0      0]\n",
      " [  3805    209     47      9   6385    279      0      0      0]\n",
      " [  2909      5      1      0    380   2964      0      0      0]\n",
      " [   160      0      0      0     33     47     42      0      0]\n",
      " [   147      1      0      0     52     30      0      0      0]\n",
      " [    48      0      0      0     10      6      0      0      0]]\n",
      "\n",
      "Classification Report:\n"
     ]
    },
    {
     "name": "stderr",
     "output_type": "stream",
     "text": [
      "/home/mbc/thesissatria/fllib/lib/python3.8/site-packages/sklearn/metrics/_classification.py:1471: UndefinedMetricWarning: Precision and F-score are ill-defined and being set to 0.0 in labels with no predicted samples. Use `zero_division` parameter to control this behavior.\n",
      "  _warn_prf(average, modifier, msg_start, len(result))\n"
     ]
    },
    {
     "name": "stdout",
     "output_type": "stream",
     "text": [
      "              precision    recall  f1-score   support\n",
      "\n",
      "           0       0.75      0.96      0.84     22012\n",
      "           1       0.99      0.99      0.99    490057\n",
      "           2       0.97      0.99      0.98    147750\n",
      "           3       1.00      0.99      1.00     48311\n",
      "           4       0.82      0.59      0.69     10734\n",
      "           5       0.83      0.47      0.60      6259\n",
      "           6       1.00      0.15      0.26       282\n",
      "           7       0.00      0.00      0.00       230\n",
      "           8       0.00      0.00      0.00        64\n",
      "\n",
      "    accuracy                           0.98    725699\n",
      "   macro avg       0.71      0.57      0.60    725699\n",
      "weighted avg       0.98      0.98      0.98    725699\n",
      "\n"
     ]
    },
    {
     "name": "stderr",
     "output_type": "stream",
     "text": [
      "/home/mbc/thesissatria/fllib/lib/python3.8/site-packages/sklearn/metrics/_classification.py:1471: UndefinedMetricWarning: Precision and F-score are ill-defined and being set to 0.0 in labels with no predicted samples. Use `zero_division` parameter to control this behavior.\n",
      "  _warn_prf(average, modifier, msg_start, len(result))\n",
      "/home/mbc/thesissatria/fllib/lib/python3.8/site-packages/sklearn/metrics/_classification.py:1471: UndefinedMetricWarning: Precision and F-score are ill-defined and being set to 0.0 in labels with no predicted samples. Use `zero_division` parameter to control this behavior.\n",
      "  _warn_prf(average, modifier, msg_start, len(result))\n"
     ]
    }
   ],
   "source": [
    "# Mengubah label menjadi format kategori\n",
    "y_train_cat = to_categorical(y_train)\n",
    "y_test_cat = to_categorical(y_test)\n",
    "\n",
    "# Membuat model Deep Neural Network\n",
    "model = Sequential()\n",
    "\n",
    "# Menambahkan layer input dan hidden layers\n",
    "model.add(Dense(units=128, activation='relu', input_dim=X_train.shape[1]))\n",
    "model.add(Dense(units=64, activation='relu'))\n",
    "model.add(Dense(units=32, activation='relu'))\n",
    "\n",
    "# Menambahkan layer output\n",
    "model.add(Dense(units=9, activation='softmax'))  # 8 kelas\n",
    "\n",
    "# Menyusun model\n",
    "model.compile(optimizer='adam', loss='categorical_crossentropy', metrics=['accuracy'])\n",
    "\n",
    "# Melatih model\n",
    "history = model.fit(X_train, y_train_cat, epochs=20, batch_size=64, validation_data=(X_test, y_test_cat))\n",
    "\n",
    "# Evaluasi model\n",
    "loss, accuracy = model.evaluate(X_test, y_test_cat)\n",
    "print(f\"Test Loss: {loss}\")\n",
    "print(f\"Test Accuracy: {accuracy}\")\n",
    "\n",
    "# Prediksi menggunakan model\n",
    "y_pred = model.predict(X_test)\n",
    "y_pred_classes = np.argmax(y_pred, axis=1)\n",
    "\n",
    "# Menampilkan confusion matrix dan classification report\n",
    "print(\"Confusion Matrix:\")\n",
    "print(confusion_matrix(y_test, y_pred_classes))\n",
    "\n",
    "print(\"\\nClassification Report:\")\n",
    "print(classification_report(y_test, y_pred_classes))\n"
   ]
  },
  {
   "cell_type": "code",
   "execution_count": 22,
   "metadata": {},
   "outputs": [
    {
     "data": {
      "image/png": "[encoded data removed]",
      "text/plain": [
       "<Figure size 800x600 with 2 Axes>"
      ]
     },
     "metadata": {},
     "output_type": "display_data"
    }
   ],
   "source": [
    "import seaborn as sns\n",
    "\n",
    "# Membuat confusion matrix\n",
    "cm = confusion_matrix(y_test, y_pred_classes)\n",
    "\n",
    "# Membuat plot confusion matrix menggunakan seaborn\n",
    "plt.figure(figsize=(8, 6))\n",
    "sns.heatmap(cm, annot=True, fmt=\"d\", cmap=\"Blues\", xticklabels=label_map.keys(), yticklabels=label_map.keys())\n",
    "plt.title('Confusion Matrix')\n",
    "plt.xlabel('Predicted')\n",
    "plt.ylabel('True')\n",
    "plt.show()\n"
   ]
  },
  {
   "cell_type": "code",
   "execution_count": 23,
   "metadata": {},
   "outputs": [
    {
     "data": {
      "image/png": "[encoded data removed]",
      "text/plain": [
       "<Figure size 1200x500 with 2 Axes>"
      ]
     },
     "metadata": {},
     "output_type": "display_data"
    }
   ],
   "source": [
    "import matplotlib.pyplot as plt\n",
    "\n",
    "# Ambil jumlah total epoch dari history\n",
    "total_epochs = len(history.history['accuracy'])\n",
    "\n",
    "# Pastikan jumlah epoch mencapai 20\n",
    "epochs_range = range(1, total_epochs + 1)\n",
    "\n",
    "# Plot Akurasi\n",
    "plt.figure(figsize=(12, 5))\n",
    "plt.subplot(1, 2, 1)\n",
    "plt.plot(epochs_range, history.history['accuracy'], label='Train Accuracy')\n",
    "plt.plot(epochs_range, history.history['val_accuracy'], label='Validation Accuracy')\n",
    "plt.xlabel('Epochs')\n",
    "plt.ylabel('Accuracy')\n",
    "plt.title('Training and Validation Accuracy')\n",
    "plt.xticks(range(2, total_epochs + 1, 2))  # Menampilkan setiap 2 epoch mulai dari 2\n",
    "plt.legend()\n",
    "\n",
    "# Plot Loss\n",
    "plt.subplot(1, 2, 2)\n",
    "plt.plot(epochs_range, history.history['loss'], label='Train Loss')\n",
    "plt.plot(epochs_range, history.history['val_loss'], label='Validation Loss')\n",
    "plt.xlabel('Epochs')\n",
    "plt.ylabel('Loss')\n",
    "plt.title('Training and Validation Loss')\n",
    "plt.xticks(range(2, total_epochs + 1, 2))  # Menampilkan setiap 2 epoch mulai dari 2\n",
    "plt.legend()\n",
    "\n",
    "plt.show()"
   ]
  }
 ],
 "metadata": {
  "kernelspec": {
   "display_name": "fllib",
   "language": "python",
   "name": "python3"
  },
  "language_info": {
   "codemirror_mode": {
    "name": "ipython",
    "version": 3
   },
   "file_extension": ".py",
   "mimetype": "text/x-python",
   "name": "python",
   "nbconvert_exporter": "python",
   "pygments_lexer": "ipython3",
   "version": "3.8.10"
  }
 },
 "nbformat": 4,
 "nbformat_minor": 2
}
