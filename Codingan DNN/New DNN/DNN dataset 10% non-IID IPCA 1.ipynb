{
 "cells": [
  {
   "cell_type": "code",
   "execution_count": 1,
   "id": "eca0697b",
   "metadata": {},
   "outputs": [
    {
     "name": "stderr",
     "output_type": "stream",
     "text": [
      "2025-07-07 12:55:19.217514: I tensorflow/tsl/cuda/cudart_stub.cc:28] Could not find cuda drivers on your machine, GPU will not be used.\n",
      "2025-07-07 12:55:19.248147: I tensorflow/tsl/cuda/cudart_stub.cc:28] Could not find cuda drivers on your machine, GPU will not be used.\n",
      "2025-07-07 12:55:19.249069: I tensorflow/core/platform/cpu_feature_guard.cc:182] This TensorFlow binary is optimized to use available CPU instructions in performance-critical operations.\n",
      "To enable the following instructions: AVX2 FMA, in other operations, rebuild TensorFlow with the appropriate compiler flags.\n",
      "2025-07-07 12:55:19.798873: W tensorflow/compiler/tf2tensorrt/utils/py_utils.cc:38] TF-TRT Warning: Could not find TensorRT\n"
     ]
    }
   ],
   "source": [
    "import pandas as pd\n",
    "import numpy as np\n",
    "import matplotlib.pyplot as plt\n",
    "from sklearn.model_selection import train_test_split\n",
    "from sklearn.preprocessing import StandardScaler\n",
    "from sklearn.model_selection import train_test_split\n",
    "from tensorflow.keras.models import Sequential\n",
    "from tensorflow.keras.layers import Dense\n",
    "from tensorflow.keras.utils import to_categorical\n",
    "from sklearn.metrics import classification_report, confusion_matrix\n",
    "import seaborn as sns"
   ]
  },
  {
   "cell_type": "code",
   "execution_count": 2,
   "id": "d99494f4",
   "metadata": {},
   "outputs": [],
   "source": [
    "dataset = pd.read_csv(\"/home/mbc/thesissatria/Dataset/CICIoT2023_noniid1IPCASTD10%.csv\")"
   ]
  },
  {
   "cell_type": "code",
   "execution_count": 3,
   "id": "7c9bba7a",
   "metadata": {},
   "outputs": [
    {
     "name": "stdout",
     "output_type": "stream",
     "text": [
      "<class 'pandas.core.frame.DataFrame'>\n",
      "RangeIndex: 1814248 entries, 0 to 1814247\n",
      "Data columns (total 24 columns):\n",
      " #   Column       Dtype  \n",
      "---  ------       -----  \n",
      " 0   PC1          float64\n",
      " 1   PC2          float64\n",
      " 2   PC3          float64\n",
      " 3   PC4          float64\n",
      " 4   PC5          float64\n",
      " 5   PC6          float64\n",
      " 6   PC7          float64\n",
      " 7   PC8          float64\n",
      " 8   PC9          float64\n",
      " 9   PC10         float64\n",
      " 10  PC11         float64\n",
      " 11  PC12         float64\n",
      " 12  PC13         float64\n",
      " 13  PC14         float64\n",
      " 14  PC15         float64\n",
      " 15  PC16         float64\n",
      " 16  PC17         float64\n",
      " 17  PC18         float64\n",
      " 18  PC19         float64\n",
      " 19  PC20         float64\n",
      " 20  PC21         float64\n",
      " 21  PC22         float64\n",
      " 22  PC23         float64\n",
      " 23  Attack Type  object \n",
      "dtypes: float64(23), object(1)\n",
      "memory usage: 332.2+ MB\n"
     ]
    }
   ],
   "source": [
    "dataset.info()"
   ]
  },
  {
   "cell_type": "code",
   "execution_count": 4,
   "id": "90a2bd9e",
   "metadata": {},
   "outputs": [
    {
     "name": "stdout",
     "output_type": "stream",
     "text": [
      "Ukuran Dataset Sebelum Drop Duplikat dan Missing Value:\n"
     ]
    },
    {
     "data": {
      "text/plain": [
       "(1814248, 24)"
      ]
     },
     "execution_count": 4,
     "metadata": {},
     "output_type": "execute_result"
    }
   ],
   "source": [
    "print(\"Ukuran Dataset Sebelum Drop Duplikat dan Missing Value:\")\n",
    "dataset.shape"
   ]
  },
  {
   "cell_type": "code",
   "execution_count": 5,
   "id": "98b71b37",
   "metadata": {},
   "outputs": [
    {
     "name": "stdout",
     "output_type": "stream",
     "text": [
      "Jumlah Duplikat: 0\n"
     ]
    }
   ],
   "source": [
    "dups = dataset[dataset.duplicated()]\n",
    "print(f'Jumlah Duplikat: {len(dups)}')"
   ]
  },
  {
   "cell_type": "code",
   "execution_count": 6,
   "id": "49872a93",
   "metadata": {},
   "outputs": [
    {
     "name": "stdout",
     "output_type": "stream",
     "text": [
      "Series([], dtype: int64)\n",
      "Series([], dtype: int64)\n",
      "Nilai Hilang 0\n"
     ]
    }
   ],
   "source": [
    "missing_val = dataset.isna().sum()\n",
    "print(missing_val.loc[missing_val > 0])\n",
    "\n",
    "numeric_cols = dataset.select_dtypes(include = np.number).columns\n",
    "inf_count = np.isinf(dataset[numeric_cols]).sum()\n",
    "print(inf_count[inf_count > 0])\n",
    "\n",
    "print(f'Nilai Hilang {dataset.isna().sum().sum()}')"
   ]
  },
  {
   "cell_type": "code",
   "execution_count": 7,
   "id": "7944b61c",
   "metadata": {},
   "outputs": [
    {
     "name": "stdout",
     "output_type": "stream",
     "text": [
      "Ukuran Dataset Sesudah Drop Duplikat:\n"
     ]
    },
    {
     "data": {
      "text/plain": [
       "(1814248, 24)"
      ]
     },
     "execution_count": 7,
     "metadata": {},
     "output_type": "execute_result"
    }
   ],
   "source": [
    "print(\"Ukuran Dataset Sesudah Drop Duplikat:\")\n",
    "dataset.drop_duplicates(inplace = True)\n",
    "dataset.shape"
   ]
  },
  {
   "cell_type": "code",
   "execution_count": 8,
   "id": "ec40b9fb",
   "metadata": {},
   "outputs": [
    {
     "data": {
      "text/html": [
       "<div>\n",
       "<style scoped>\n",
       "    .dataframe tbody tr th:only-of-type {\n",
       "        vertical-align: middle;\n",
       "    }\n",
       "\n",
       "    .dataframe tbody tr th {\n",
       "        vertical-align: top;\n",
       "    }\n",
       "\n",
       "    .dataframe thead th {\n",
       "        text-align: right;\n",
       "    }\n",
       "</style>\n",
       "<table border=\"1\" class=\"dataframe\">\n",
       "  <thead>\n",
       "    <tr style=\"text-align: right;\">\n",
       "      <th></th>\n",
       "      <th>count</th>\n",
       "      <th>mean</th>\n",
       "      <th>std</th>\n",
       "      <th>min</th>\n",
       "      <th>25%</th>\n",
       "      <th>50%</th>\n",
       "      <th>75%</th>\n",
       "      <th>max</th>\n",
       "    </tr>\n",
       "  </thead>\n",
       "  <tbody>\n",
       "    <tr>\n",
       "      <th>PC1</th>\n",
       "      <td>1814248.0</td>\n",
       "      <td>-1.716975e-16</td>\n",
       "      <td>2.915653</td>\n",
       "      <td>-2.497921</td>\n",
       "      <td>-1.135235</td>\n",
       "      <td>-0.990949</td>\n",
       "      <td>-0.635271</td>\n",
       "      <td>95.936398</td>\n",
       "    </tr>\n",
       "    <tr>\n",
       "      <th>PC2</th>\n",
       "      <td>1814248.0</td>\n",
       "      <td>8.228480e-17</td>\n",
       "      <td>1.965499</td>\n",
       "      <td>-8.209362</td>\n",
       "      <td>-1.429408</td>\n",
       "      <td>-0.066807</td>\n",
       "      <td>0.290474</td>\n",
       "      <td>96.867841</td>\n",
       "    </tr>\n",
       "    <tr>\n",
       "      <th>PC3</th>\n",
       "      <td>1814248.0</td>\n",
       "      <td>-4.057921e-16</td>\n",
       "      <td>1.801754</td>\n",
       "      <td>-54.292194</td>\n",
       "      <td>-1.167726</td>\n",
       "      <td>-0.108024</td>\n",
       "      <td>1.651040</td>\n",
       "      <td>13.407128</td>\n",
       "    </tr>\n",
       "    <tr>\n",
       "      <th>PC4</th>\n",
       "      <td>1814248.0</td>\n",
       "      <td>6.299232e-17</td>\n",
       "      <td>1.761883</td>\n",
       "      <td>-19.239166</td>\n",
       "      <td>-0.221755</td>\n",
       "      <td>0.035511</td>\n",
       "      <td>0.483102</td>\n",
       "      <td>17.286257</td>\n",
       "    </tr>\n",
       "    <tr>\n",
       "      <th>PC5</th>\n",
       "      <td>1814248.0</td>\n",
       "      <td>2.966874e-16</td>\n",
       "      <td>1.640489</td>\n",
       "      <td>-159.849885</td>\n",
       "      <td>-0.001899</td>\n",
       "      <td>0.007305</td>\n",
       "      <td>0.047738</td>\n",
       "      <td>0.547462</td>\n",
       "    </tr>\n",
       "    <tr>\n",
       "      <th>PC6</th>\n",
       "      <td>1814248.0</td>\n",
       "      <td>4.115415e-16</td>\n",
       "      <td>1.467985</td>\n",
       "      <td>-39.626688</td>\n",
       "      <td>-0.658945</td>\n",
       "      <td>-0.055390</td>\n",
       "      <td>1.403067</td>\n",
       "      <td>27.718871</td>\n",
       "    </tr>\n",
       "    <tr>\n",
       "      <th>PC7</th>\n",
       "      <td>1814248.0</td>\n",
       "      <td>3.770571e-17</td>\n",
       "      <td>1.405647</td>\n",
       "      <td>-4.706586</td>\n",
       "      <td>-0.322873</td>\n",
       "      <td>-0.153837</td>\n",
       "      <td>0.408936</td>\n",
       "      <td>138.345302</td>\n",
       "    </tr>\n",
       "    <tr>\n",
       "      <th>PC8</th>\n",
       "      <td>1814248.0</td>\n",
       "      <td>-2.468152e-17</td>\n",
       "      <td>1.358285</td>\n",
       "      <td>-1.764894</td>\n",
       "      <td>-0.032700</td>\n",
       "      <td>-0.004135</td>\n",
       "      <td>0.027332</td>\n",
       "      <td>785.065611</td>\n",
       "    </tr>\n",
       "    <tr>\n",
       "      <th>PC9</th>\n",
       "      <td>1814248.0</td>\n",
       "      <td>1.787961e-16</td>\n",
       "      <td>1.330170</td>\n",
       "      <td>-48.183883</td>\n",
       "      <td>-0.324079</td>\n",
       "      <td>0.495513</td>\n",
       "      <td>0.565106</td>\n",
       "      <td>26.212884</td>\n",
       "    </tr>\n",
       "    <tr>\n",
       "      <th>PC10</th>\n",
       "      <td>1814248.0</td>\n",
       "      <td>-4.880534e-16</td>\n",
       "      <td>1.286768</td>\n",
       "      <td>-10.917804</td>\n",
       "      <td>-0.115936</td>\n",
       "      <td>0.032921</td>\n",
       "      <td>0.241531</td>\n",
       "      <td>29.882182</td>\n",
       "    </tr>\n",
       "    <tr>\n",
       "      <th>PC11</th>\n",
       "      <td>1814248.0</td>\n",
       "      <td>-4.633484e-16</td>\n",
       "      <td>1.111231</td>\n",
       "      <td>-67.015368</td>\n",
       "      <td>-0.831185</td>\n",
       "      <td>0.083735</td>\n",
       "      <td>0.209701</td>\n",
       "      <td>19.105260</td>\n",
       "    </tr>\n",
       "    <tr>\n",
       "      <th>PC12</th>\n",
       "      <td>1814248.0</td>\n",
       "      <td>7.893231e-17</td>\n",
       "      <td>1.016411</td>\n",
       "      <td>-473.595608</td>\n",
       "      <td>-0.228784</td>\n",
       "      <td>-0.089340</td>\n",
       "      <td>0.213830</td>\n",
       "      <td>37.808516</td>\n",
       "    </tr>\n",
       "    <tr>\n",
       "      <th>PC13</th>\n",
       "      <td>1814248.0</td>\n",
       "      <td>2.372708e-16</td>\n",
       "      <td>1.002253</td>\n",
       "      <td>-103.554753</td>\n",
       "      <td>-0.208529</td>\n",
       "      <td>-0.051399</td>\n",
       "      <td>-0.017718</td>\n",
       "      <td>344.033849</td>\n",
       "    </tr>\n",
       "    <tr>\n",
       "      <th>PC14</th>\n",
       "      <td>1814248.0</td>\n",
       "      <td>-2.599794e-18</td>\n",
       "      <td>1.000001</td>\n",
       "      <td>-568.833992</td>\n",
       "      <td>-0.003161</td>\n",
       "      <td>0.000408</td>\n",
       "      <td>0.002572</td>\n",
       "      <td>1197.046768</td>\n",
       "    </tr>\n",
       "    <tr>\n",
       "      <th>PC15</th>\n",
       "      <td>1814248.0</td>\n",
       "      <td>-1.205388e-17</td>\n",
       "      <td>0.999989</td>\n",
       "      <td>-151.632495</td>\n",
       "      <td>-0.009033</td>\n",
       "      <td>-0.000658</td>\n",
       "      <td>0.004268</td>\n",
       "      <td>662.584406</td>\n",
       "    </tr>\n",
       "    <tr>\n",
       "      <th>PC16</th>\n",
       "      <td>1814248.0</td>\n",
       "      <td>4.588425e-17</td>\n",
       "      <td>0.999986</td>\n",
       "      <td>-0.264423</td>\n",
       "      <td>-0.020477</td>\n",
       "      <td>-0.003306</td>\n",
       "      <td>-0.001133</td>\n",
       "      <td>1198.297097</td>\n",
       "    </tr>\n",
       "    <tr>\n",
       "      <th>PC17</th>\n",
       "      <td>1814248.0</td>\n",
       "      <td>-7.550932e-17</td>\n",
       "      <td>0.996953</td>\n",
       "      <td>-46.051943</td>\n",
       "      <td>-0.107458</td>\n",
       "      <td>-0.065172</td>\n",
       "      <td>0.062482</td>\n",
       "      <td>722.648588</td>\n",
       "    </tr>\n",
       "    <tr>\n",
       "      <th>PC18</th>\n",
       "      <td>1814248.0</td>\n",
       "      <td>2.723740e-16</td>\n",
       "      <td>0.957211</td>\n",
       "      <td>-156.022933</td>\n",
       "      <td>-0.356017</td>\n",
       "      <td>-0.145829</td>\n",
       "      <td>0.086511</td>\n",
       "      <td>79.162288</td>\n",
       "    </tr>\n",
       "    <tr>\n",
       "      <th>PC19</th>\n",
       "      <td>1814248.0</td>\n",
       "      <td>3.131483e-16</td>\n",
       "      <td>0.980518</td>\n",
       "      <td>-4.328985</td>\n",
       "      <td>-0.037746</td>\n",
       "      <td>0.081562</td>\n",
       "      <td>0.205921</td>\n",
       "      <td>127.919257</td>\n",
       "    </tr>\n",
       "    <tr>\n",
       "      <th>PC20</th>\n",
       "      <td>1814248.0</td>\n",
       "      <td>-4.513484e-16</td>\n",
       "      <td>0.768749</td>\n",
       "      <td>-31.082629</td>\n",
       "      <td>-0.261203</td>\n",
       "      <td>0.007503</td>\n",
       "      <td>0.308145</td>\n",
       "      <td>49.232627</td>\n",
       "    </tr>\n",
       "    <tr>\n",
       "      <th>PC21</th>\n",
       "      <td>1814248.0</td>\n",
       "      <td>-7.082720e-17</td>\n",
       "      <td>0.736019</td>\n",
       "      <td>-18.273063</td>\n",
       "      <td>-0.189587</td>\n",
       "      <td>0.046476</td>\n",
       "      <td>0.363860</td>\n",
       "      <td>42.055030</td>\n",
       "    </tr>\n",
       "    <tr>\n",
       "      <th>PC22</th>\n",
       "      <td>1814248.0</td>\n",
       "      <td>-5.454883e-16</td>\n",
       "      <td>0.702442</td>\n",
       "      <td>-40.197228</td>\n",
       "      <td>-0.258879</td>\n",
       "      <td>0.120553</td>\n",
       "      <td>0.278437</td>\n",
       "      <td>43.441560</td>\n",
       "    </tr>\n",
       "    <tr>\n",
       "      <th>PC23</th>\n",
       "      <td>1814248.0</td>\n",
       "      <td>-5.100913e-16</td>\n",
       "      <td>0.686366</td>\n",
       "      <td>-8.462812</td>\n",
       "      <td>-0.136993</td>\n",
       "      <td>0.093997</td>\n",
       "      <td>0.249272</td>\n",
       "      <td>50.759824</td>\n",
       "    </tr>\n",
       "  </tbody>\n",
       "</table>\n",
       "</div>"
      ],
      "text/plain": [
       "          count          mean       std         min       25%       50%  \\\n",
       "PC1   1814248.0 -1.716975e-16  2.915653   -2.497921 -1.135235 -0.990949   \n",
       "PC2   1814248.0  8.228480e-17  1.965499   -8.209362 -1.429408 -0.066807   \n",
       "PC3   1814248.0 -4.057921e-16  1.801754  -54.292194 -1.167726 -0.108024   \n",
       "PC4   1814248.0  6.299232e-17  1.761883  -19.239166 -0.221755  0.035511   \n",
       "PC5   1814248.0  2.966874e-16  1.640489 -159.849885 -0.001899  0.007305   \n",
       "PC6   1814248.0  4.115415e-16  1.467985  -39.626688 -0.658945 -0.055390   \n",
       "PC7   1814248.0  3.770571e-17  1.405647   -4.706586 -0.322873 -0.153837   \n",
       "PC8   1814248.0 -2.468152e-17  1.358285   -1.764894 -0.032700 -0.004135   \n",
       "PC9   1814248.0  1.787961e-16  1.330170  -48.183883 -0.324079  0.495513   \n",
       "PC10  1814248.0 -4.880534e-16  1.286768  -10.917804 -0.115936  0.032921   \n",
       "PC11  1814248.0 -4.633484e-16  1.111231  -67.015368 -0.831185  0.083735   \n",
       "PC12  1814248.0  7.893231e-17  1.016411 -473.595608 -0.228784 -0.089340   \n",
       "PC13  1814248.0  2.372708e-16  1.002253 -103.554753 -0.208529 -0.051399   \n",
       "PC14  1814248.0 -2.599794e-18  1.000001 -568.833992 -0.003161  0.000408   \n",
       "PC15  1814248.0 -1.205388e-17  0.999989 -151.632495 -0.009033 -0.000658   \n",
       "PC16  1814248.0  4.588425e-17  0.999986   -0.264423 -0.020477 -0.003306   \n",
       "PC17  1814248.0 -7.550932e-17  0.996953  -46.051943 -0.107458 -0.065172   \n",
       "PC18  1814248.0  2.723740e-16  0.957211 -156.022933 -0.356017 -0.145829   \n",
       "PC19  1814248.0  3.131483e-16  0.980518   -4.328985 -0.037746  0.081562   \n",
       "PC20  1814248.0 -4.513484e-16  0.768749  -31.082629 -0.261203  0.007503   \n",
       "PC21  1814248.0 -7.082720e-17  0.736019  -18.273063 -0.189587  0.046476   \n",
       "PC22  1814248.0 -5.454883e-16  0.702442  -40.197228 -0.258879  0.120553   \n",
       "PC23  1814248.0 -5.100913e-16  0.686366   -8.462812 -0.136993  0.093997   \n",
       "\n",
       "           75%          max  \n",
       "PC1  -0.635271    95.936398  \n",
       "PC2   0.290474    96.867841  \n",
       "PC3   1.651040    13.407128  \n",
       "PC4   0.483102    17.286257  \n",
       "PC5   0.047738     0.547462  \n",
       "PC6   1.403067    27.718871  \n",
       "PC7   0.408936   138.345302  \n",
       "PC8   0.027332   785.065611  \n",
       "PC9   0.565106    26.212884  \n",
       "PC10  0.241531    29.882182  \n",
       "PC11  0.209701    19.105260  \n",
       "PC12  0.213830    37.808516  \n",
       "PC13 -0.017718   344.033849  \n",
       "PC14  0.002572  1197.046768  \n",
       "PC15  0.004268   662.584406  \n",
       "PC16 -0.001133  1198.297097  \n",
       "PC17  0.062482   722.648588  \n",
       "PC18  0.086511    79.162288  \n",
       "PC19  0.205921   127.919257  \n",
       "PC20  0.308145    49.232627  \n",
       "PC21  0.363860    42.055030  \n",
       "PC22  0.278437    43.441560  \n",
       "PC23  0.249272    50.759824  "
      ]
     },
     "execution_count": 8,
     "metadata": {},
     "output_type": "execute_result"
    }
   ],
   "source": [
    "dataset.describe().transpose()"
   ]
  },
  {
   "cell_type": "code",
   "execution_count": 9,
   "id": "591c8983",
   "metadata": {},
   "outputs": [
    {
     "name": "stdout",
     "output_type": "stream",
     "text": [
      "Jumlah Serangan Pada Dataset:\n"
     ]
    },
    {
     "data": {
      "text/plain": [
       "Attack Type\n",
       "DDoS              1221567\n",
       "DoS                361461\n",
       "Mirai              118537\n",
       "BENIGN              73194\n",
       "Network Attack      24894\n",
       "Recon               13429\n",
       "Brute Force           546\n",
       "Injection             481\n",
       "Malware               139\n",
       "Name: count, dtype: int64"
      ]
     },
     "execution_count": 9,
     "metadata": {},
     "output_type": "execute_result"
    }
   ],
   "source": [
    "print(\"Jumlah Serangan Pada Dataset:\")\n",
    "dataset['Attack Type'].value_counts()"
   ]
  },
  {
   "cell_type": "code",
   "execution_count": 10,
   "id": "94836328",
   "metadata": {},
   "outputs": [],
   "source": [
    "label_map = {\n",
    "        'BENIGN': 0, 'DDoS': 1, 'DoS': 2, 'Mirai': 3,\n",
    "        'Network Attack': 4, 'Recon': 5, 'Brute Force': 6,\n",
    "        'Injection': 7, 'Malware': 8,\n",
    "    }\n",
    "dataset[\"Attack Type\"] = dataset[\"Attack Type\"].map(label_map)"
   ]
  },
  {
   "cell_type": "code",
   "execution_count": 11,
   "id": "39db66e2",
   "metadata": {},
   "outputs": [],
   "source": [
    "features = dataset.drop('Attack Type',axis=1)\n",
    "labels = dataset[\"Attack Type\"]"
   ]
  },
  {
   "cell_type": "code",
   "execution_count": 12,
   "id": "d8196f18",
   "metadata": {},
   "outputs": [],
   "source": [
    "x_train, x_test, y_train, y_test = train_test_split(features, labels, test_size=0.2, random_state=42)"
   ]
  },
  {
   "cell_type": "code",
   "execution_count": 13,
   "id": "403d3fb9",
   "metadata": {},
   "outputs": [
    {
     "name": "stdout",
     "output_type": "stream",
     "text": [
      "X_train: (1451398, 23)\n",
      "y_train: (1451398,)\n",
      "X_test: (362850, 23)\n",
      "y_test: (362850,)\n"
     ]
    }
   ],
   "source": [
    "print(\"X_train:\",x_train.shape)\n",
    "print(\"y_train:\",y_train.shape)\n",
    "\n",
    "print(\"X_test:\",x_test.shape)\n",
    "print(\"y_test:\",y_test.shape)"
   ]
  },
  {
   "cell_type": "code",
   "execution_count": 14,
   "id": "fcedd990",
   "metadata": {},
   "outputs": [],
   "source": [
    "# Mengubah label menjadi format kategori\n",
    "y_train_cat = to_categorical(y_train, num_classes=9)\n",
    "y_test_cat = to_categorical(y_test, num_classes=9)"
   ]
  },
  {
   "cell_type": "code",
   "execution_count": 15,
   "id": "6114fa7b",
   "metadata": {},
   "outputs": [
    {
     "name": "stderr",
     "output_type": "stream",
     "text": [
      "2025-07-07 12:55:42.600219: I tensorflow/compiler/xla/stream_executor/cuda/cuda_gpu_executor.cc:981] could not open file to read NUMA node: /sys/bus/pci/devices/0000:01:00.0/numa_node\n",
      "Your kernel may have been built without NUMA support.\n",
      "2025-07-07 12:55:42.600593: W tensorflow/core/common_runtime/gpu/gpu_device.cc:1960] Cannot dlopen some GPU libraries. Please make sure the missing libraries mentioned above are installed properly if you would like to use GPU. Follow the guide at https://www.tensorflow.org/install/gpu for how to download and setup the required libraries for your platform.\n",
      "Skipping registering GPU devices...\n"
     ]
    },
    {
     "name": "stdout",
     "output_type": "stream",
     "text": [
      "Epoch 1/5\n",
      "22679/22679 [==============================] - 27s 1ms/step - loss: 0.3494 - accuracy: 0.8329 - val_loss: 0.3466 - val_accuracy: 0.8453\n",
      "Epoch 2/5\n",
      "22679/22679 [==============================] - 26s 1ms/step - loss: 0.3042 - accuracy: 0.8648 - val_loss: 0.4044 - val_accuracy: 0.8753\n",
      "Epoch 3/5\n",
      "22679/22679 [==============================] - 26s 1ms/step - loss: 0.2740 - accuracy: 0.8813 - val_loss: 0.3689 - val_accuracy: 0.8934\n",
      "Epoch 4/5\n",
      "22679/22679 [==============================] - 26s 1ms/step - loss: 0.2271 - accuracy: 0.9054 - val_loss: 0.4067 - val_accuracy: 0.9025\n",
      "Epoch 5/5\n",
      "22679/22679 [==============================] - 26s 1ms/step - loss: 0.1788 - accuracy: 0.9309 - val_loss: 0.3653 - val_accuracy: 0.9223\n",
      "11340/11340 [==============================] - 9s 784us/step - loss: 0.3654 - accuracy: 0.9223\n",
      "Test Loss: 0.36535021662712097\n",
      "Test Accuracy: 0.9222819209098816\n",
      "11340/11340 [==============================] - 7s 657us/step\n",
      "Confusion Matrix:\n",
      "[[ 13868     45      1      0    411    304      0      0      0]\n",
      " [     8 233936  10427     13     38     11      0      0      0]\n",
      " [     2  13040  58851     26     20      4      0      0      0]\n",
      " [     3    123     31  23624     13      0      0      0      0]\n",
      " [  1701    121     19      8   2851    337      0      0      0]\n",
      " [  1029     36      1      0    197   1504      0      0      0]\n",
      " [    64      0      0      0     15     18     13      0      0]\n",
      " [    41      2      0      0     32     32      0      3      0]\n",
      " [    10      0      0      0      4     13      0      0      0]]\n",
      "\n",
      "Classification Report:\n"
     ]
    },
    {
     "name": "stderr",
     "output_type": "stream",
     "text": [
      "/home/mbc/thesissatria/fllib/lib/python3.8/site-packages/sklearn/metrics/_classification.py:1471: UndefinedMetricWarning: Precision and F-score are ill-defined and being set to 0.0 in labels with no predicted samples. Use `zero_division` parameter to control this behavior.\n",
      "  _warn_prf(average, modifier, msg_start, len(result))\n",
      "/home/mbc/thesissatria/fllib/lib/python3.8/site-packages/sklearn/metrics/_classification.py:1471: UndefinedMetricWarning: Precision and F-score are ill-defined and being set to 0.0 in labels with no predicted samples. Use `zero_division` parameter to control this behavior.\n",
      "  _warn_prf(average, modifier, msg_start, len(result))\n"
     ]
    },
    {
     "name": "stdout",
     "output_type": "stream",
     "text": [
      "              precision    recall  f1-score   support\n",
      "\n",
      "           0       0.83      0.95      0.88     14629\n",
      "           1       0.95      0.96      0.95    244433\n",
      "           2       0.85      0.82      0.83     71943\n",
      "           3       1.00      0.99      1.00     23794\n",
      "           4       0.80      0.57      0.66      5037\n",
      "           5       0.68      0.54      0.60      2767\n",
      "           6       1.00      0.12      0.21       110\n",
      "           7       1.00      0.03      0.05       110\n",
      "           8       0.00      0.00      0.00        27\n",
      "\n",
      "    accuracy                           0.92    362850\n",
      "   macro avg       0.79      0.55      0.58    362850\n",
      "weighted avg       0.92      0.92      0.92    362850\n",
      "\n"
     ]
    },
    {
     "name": "stderr",
     "output_type": "stream",
     "text": [
      "/home/mbc/thesissatria/fllib/lib/python3.8/site-packages/sklearn/metrics/_classification.py:1471: UndefinedMetricWarning: Precision and F-score are ill-defined and being set to 0.0 in labels with no predicted samples. Use `zero_division` parameter to control this behavior.\n",
      "  _warn_prf(average, modifier, msg_start, len(result))\n"
     ]
    }
   ],
   "source": [
    "# Membuat model Deep Neural Network\n",
    "model = Sequential()\n",
    "\n",
    "# Menambahkan layer input dan hidden layers\n",
    "model.add(Dense(units=128, activation='relu', input_dim=x_train.shape[1]))\n",
    "model.add(Dense(units=64, activation='relu'))\n",
    "model.add(Dense(units=32, activation='relu'))\n",
    "# Menambahkan layer output\n",
    "model.add(Dense(units=9, activation='softmax'))  # 9 kelas\n",
    "\n",
    "# Menyusun model\n",
    "model.compile(optimizer='adam', loss='categorical_crossentropy', metrics=['accuracy'])\n",
    "\n",
    "# Melatih model\n",
    "history = model.fit(x_train, y_train_cat, epochs=5, batch_size=64, validation_data=(x_test, y_test_cat))\n",
    "\n",
    "# Evaluasi model\n",
    "loss, accuracy = model.evaluate(x_test, y_test_cat)\n",
    "print(f\"Test Loss: {loss}\")\n",
    "print(f\"Test Accuracy: {accuracy}\")\n",
    "\n",
    "# Prediksi menggunakan model\n",
    "y_pred = model.predict(x_test)\n",
    "y_pred_classes = np.argmax(y_pred, axis=1)\n",
    "\n",
    "# Menampilkan confusion matrix dan classification report\n",
    "print(\"Confusion Matrix:\")\n",
    "print(confusion_matrix(y_test, y_pred_classes))\n",
    "\n",
    "print(\"\\nClassification Report:\")\n",
    "print(classification_report(y_test, y_pred_classes))\n"
   ]
  },
  {
   "cell_type": "code",
   "execution_count": 16,
   "id": "2961c4a1",
   "metadata": {},
   "outputs": [
    {
     "data": {
      "image/png": "[encoded data removed]",
      "text/plain": [
       "<Figure size 800x600 with 2 Axes>"
      ]
     },
     "metadata": {},
     "output_type": "display_data"
    }
   ],
   "source": [
    "# Membuat confusion matrix\n",
    "cm = confusion_matrix(y_test, y_pred_classes)\n",
    "\n",
    "# Membuat plot confusion matrix menggunakan seaborn\n",
    "plt.figure(figsize=(8, 6))\n",
    "sns.heatmap(cm, annot=True, fmt=\"d\", cmap=\"Blues\", xticklabels=label_map.keys(), yticklabels=label_map.keys())\n",
    "plt.title('Confusion Matrix')\n",
    "plt.xlabel('Predicted')\n",
    "plt.ylabel('True')\n",
    "plt.show()\n"
   ]
  },
  {
   "cell_type": "code",
   "execution_count": null,
   "id": "874ede46",
   "metadata": {},
   "outputs": [],
   "source": []
  }
 ],
 "metadata": {
  "kernelspec": {
   "display_name": "fllib",
   "language": "python",
   "name": "python3"
  },
  "language_info": {
   "codemirror_mode": {
    "name": "ipython",
    "version": 3
   },
   "file_extension": ".py",
   "mimetype": "text/x-python",
   "name": "python",
   "nbconvert_exporter": "python",
   "pygments_lexer": "ipython3",
   "version": "3.8.10"
  }
 },
 "nbformat": 4,
 "nbformat_minor": 5
}
